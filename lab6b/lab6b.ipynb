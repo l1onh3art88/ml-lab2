{
 "cells": [
  {
   "cell_type": "code",
   "execution_count": null,
   "metadata": {},
   "outputs": [],
   "source": [
    "import keras\n",
    "from keras.models import Sequential\n",
    "from keras.layers import Reshape\n",
    "from keras.layers import Dense, Dropout, Activation, Flatten\n",
    "from keras.layers import Conv2D, MaxPooling2D\n",
    "from keras.callbacks import EarlyStopping\n",
    "from keras.regularizers import l2 \n",
    "keras.__version__"
   ]
  },
  {
   "cell_type": "code",
   "execution_count": null,
   "metadata": {},
   "outputs": [],
   "source": [
    "# confirm Keras sees the GPU (for TensorFlow 1.X + Keras)\n",
    "from keras import backend\n",
    "assert len(backend.tensorflow_backend._get_available_gpus()) > 0\n",
    "print(backend.tensorflow_backend._get_available_gpus())"
   ]
  },
  {
   "cell_type": "code",
   "execution_count": null,
   "metadata": {},
   "outputs": [],
   "source": [
    "from tensorflow.python.client import device_lib\n",
    "print(device_lib.list_local_devices())"
   ]
  },
  {
   "cell_type": "code",
   "execution_count": null,
   "metadata": {},
   "outputs": [],
   "source": [
    "import pandas as pd\n",
    "import numpy as np\n",
    "import glob\n",
    "import cv2\n",
    "# stack overflow example taken from: https://stackoverflow.com/questions/37747021/create-numpy-array-of-images\n",
    "X_data = []\n",
    "y = []\n",
    "\n",
    "files = glob.glob (\"./cell_images/Parasitized/*.png\")\n",
    "for myFile in files:\n",
    "    image = cv2.imread(myFile,cv2.IMREAD_COLOR)\n",
    "    image = cv2.resize(image,(128,128))\n",
    "    X_data.append(image)\n",
    "    y.append((int)(1))\n",
    "files = glob.glob (\"./cell_images/Uninfected/*.png\")\n",
    "for myFile in files:\n",
    "    image = cv2.imread(myFile,cv2.IMREAD_COLOR)\n",
    "    image = cv2.resize(image,(128,128))\n",
    "    X_data.append (image)\n",
    "    y.append((int)(0))\n",
    "npArr =np.array(X_data)\n",
    "print('X_data shape:', np.array(X_data).shape)"
   ]
  },
  {
   "cell_type": "code",
   "execution_count": null,
   "metadata": {},
   "outputs": [],
   "source": [
    "print(npArr[0].shape)\n",
    "print(npArr[1].shape)\n",
    "pixels = npArr\n",
    "pixels.shape"
   ]
  },
  {
   "cell_type": "code",
   "execution_count": null,
   "metadata": {},
   "outputs": [],
   "source": [
    "y = np.array(y)\n",
    "h=128\n",
    "w=128\n",
    "print(y)"
   ]
  },
  {
   "cell_type": "code",
   "execution_count": null,
   "metadata": {},
   "outputs": [],
   "source": [
    "from matplotlib import pyplot as plt\n",
    "\n",
    "# a helper plotting function\n",
    "\n",
    "# def plot_gallery(images, titles, h, w,n_row=3, n_col=6):\n",
    "#     \"\"\"Helper function to plot a gallery of portraits\"\"\"\n",
    "#     plt.figure(figsize=(1.7 * n_col, 2.3 * n_row))\n",
    "#     plt.subplots_adjust(bottom=0, left=.01, right=.99, top=.90, hspace=.35)\n",
    "#     for i in range(n_row * n_col):\n",
    "#         plt.subplot(n_row, n_col, i + 1)\n",
    "#         plt.imshow(images[i])\n",
    "#         plt.title(titles[i], size=12)\n",
    "#         plt.xticks(())\n",
    "#         plt.yticks(())\n",
    "#     plt.show()\n",
    "# plot_gallery(x_train, y_train, h, w) # defaults to showing a 3 by 6 subset of the faces\n",
    "print(y[0])\n",
    "plt.imshow(pixels[0])\n",
    "plt.show()"
   ]
  },
  {
   "cell_type": "code",
   "execution_count": null,
   "metadata": {},
   "outputs": [],
   "source": [
    "from sklearn.model_selection import train_test_split\n",
    "import keras.utils\n",
    "from keras import utils as np_utils\n",
    "x_train,x_test,y_train,y_test = train_test_split(pixels, y, test_size = 1/5, random_state = 1)\n",
    "NUM_CLASSES = 2\n",
    "y_train_ohe = keras.utils.to_categorical(y_train, 2)\n",
    "y_test_ohe = keras.utils.to_categorical(y_test, 2)\n",
    "print(x_train[:4000].shape)\n",
    "print(y_train_ohe[:4000].shape)\n",
    "x_train = x_train/255.0 - 0.5\n",
    "x_test = x_test/255.0 - 0.5"
   ]
  },
  {
   "cell_type": "code",
   "execution_count": null,
   "metadata": {},
   "outputs": [],
   "source": [
    "from keras.preprocessing.image import ImageDataGenerator\n",
    "datagen = ImageDataGenerator(featurewise_center=False,\n",
    "    samplewise_center=False,\n",
    "    featurewise_std_normalization=False,\n",
    "    samplewise_std_normalization=False,\n",
    "    zca_whitening=False,\n",
    "    rotation_range=360, # used, Int. Degree range for random rotations.\n",
    "    width_shift_range=0.05, # used, Float (fraction of total width). Range for random horizontal shifts.\n",
    "    height_shift_range=0.05, # used,  Float (fraction of total height). Range for random vertical shifts.\n",
    "    shear_range=0., # Float. Shear Intensity (Shear angle in counter-clockwise direction as radians)\n",
    "    zoom_range=0.,\n",
    "    channel_shift_range=0.,\n",
    "    fill_mode='nearest',\n",
    "    cval=0.,\n",
    "    horizontal_flip=True,\n",
    "    vertical_flip=True,\n",
    "    rescale=None)\n",
    "datagen.fit(x_train)"
   ]
  },
  {
   "cell_type": "code",
   "execution_count": null,
   "metadata": {},
   "outputs": [],
   "source": [
    "tmps = datagen.flow(x_train, y_train, batch_size=5000)\n",
    "for tmp in tmps:\n",
    "    x_train = np.concatenate((x_train,tmp[0]))\n",
    "    y_train = np.concatenate((y_train,tmp[1]))\n",
    "    break\n",
    "print(x_train.shape)"
   ]
  },
  {
   "cell_type": "code",
   "execution_count": null,
   "metadata": {},
   "outputs": [],
   "source": [
    "x_train_flat = []\n",
    "for val in x_train:\n",
    "    x_train_flat.append(np.ravel(val))\n",
    "x_train_flat = np.array(x_train_flat)"
   ]
  },
  {
   "cell_type": "markdown",
   "metadata": {},
   "source": [
    "## Ensemble Style CNN"
   ]
  },
  {
   "cell_type": "code",
   "execution_count": 11,
   "metadata": {},
   "outputs": [
    {
     "name": "stdout",
     "output_type": "stream",
     "text": [
      "WARNING:tensorflow:From /home/ubuntu/anaconda3/envs/tensorflow_p36/lib/python3.6/site-packages/keras/backend/tensorflow_backend.py:74: The name tf.get_default_graph is deprecated. Please use tf.compat.v1.get_default_graph instead.\n",
      "\n",
      "WARNING:tensorflow:From /home/ubuntu/anaconda3/envs/tensorflow_p36/lib/python3.6/site-packages/keras/backend/tensorflow_backend.py:3976: The name tf.nn.max_pool is deprecated. Please use tf.nn.max_pool2d instead.\n",
      "\n",
      "WARNING:tensorflow:From /home/ubuntu/anaconda3/envs/tensorflow_p36/lib/python3.6/site-packages/keras/backend/tensorflow_backend.py:3445: calling dropout (from tensorflow.python.ops.nn_ops) with keep_prob is deprecated and will be removed in a future version.\n",
      "Instructions for updating:\n",
      "Please use `rate` instead of `keep_prob`. Rate should be set to `rate = 1 - keep_prob`.\n",
      "WARNING:tensorflow:From /home/ubuntu/anaconda3/envs/tensorflow_p36/lib/python3.6/site-packages/keras/optimizers.py:790: The name tf.train.Optimizer is deprecated. Please use tf.compat.v1.train.Optimizer instead.\n",
      "\n",
      "WARNING:tensorflow:From /home/ubuntu/anaconda3/envs/tensorflow_p36/lib/python3.6/site-packages/tensorflow/python/ops/nn_impl.py:180: add_dispatch_support.<locals>.wrapper (from tensorflow.python.ops.array_ops) is deprecated and will be removed in a future version.\n",
      "Instructions for updating:\n",
      "Use tf.where in 2.0, which has the same broadcast rule as np.where\n",
      "_________________________________________________________________\n",
      "Layer (type)                 Output Shape              Param #   \n",
      "=================================================================\n",
      "conv2d_1 (Conv2D)            (None, 128, 128, 16)      448       \n",
      "_________________________________________________________________\n",
      "conv2d_2 (Conv2D)            (None, 128, 128, 32)      4640      \n",
      "_________________________________________________________________\n",
      "max_pooling2d_1 (MaxPooling2 (None, 64, 64, 32)        0         \n",
      "_________________________________________________________________\n",
      "conv2d_3 (Conv2D)            (None, 64, 64, 64)        18496     \n",
      "_________________________________________________________________\n",
      "max_pooling2d_2 (MaxPooling2 (None, 32, 32, 64)        0         \n",
      "_________________________________________________________________\n",
      "dropout_1 (Dropout)          (None, 32, 32, 64)        0         \n",
      "_________________________________________________________________\n",
      "flatten_1 (Flatten)          (None, 65536)             0         \n",
      "_________________________________________________________________\n",
      "dense_1 (Dense)              (None, 128)               8388736   \n",
      "_________________________________________________________________\n",
      "dropout_2 (Dropout)          (None, 128)               0         \n",
      "_________________________________________________________________\n",
      "dense_2 (Dense)              (None, 64)                8256      \n",
      "_________________________________________________________________\n",
      "dense_3 (Dense)              (None, 1)                 65        \n",
      "=================================================================\n",
      "Total params: 8,420,641\n",
      "Trainable params: 8,420,641\n",
      "Non-trainable params: 0\n",
      "_________________________________________________________________\n"
     ]
    }
   ],
   "source": [
    "cnn2 = Sequential()\n",
    "cnn2.add( Conv2D(filters=16, \n",
    "                kernel_size=(3,3), \n",
    "                input_shape = (128,128,3),\n",
    "                padding='same', \n",
    "                activation='linear',data_format=\"channels_last\") ) # more compact syntax\n",
    "\n",
    "num_filt_layers = [32, 64]\n",
    "for num_filters in num_filt_layers:\n",
    "    cnn2.add( Conv2D(filters=num_filters, \n",
    "                    kernel_size=(3,3), \n",
    "                    padding='same', \n",
    "                    activation='relu',data_format=\"channels_last\") ) # more compact syntax\n",
    "\n",
    "    # max pooling\n",
    "    cnn2.add( MaxPooling2D(pool_size=(2, 2), data_format=\"channels_last\") )\n",
    "    \n",
    "\n",
    "# add one layer on flattened output\n",
    "cnn2.add(Dropout(0.25))\n",
    "cnn2.add(Flatten())\n",
    "cnn2.add(Dense(128, activation='relu'))\n",
    "cnn2.add(Dropout(0.5))\n",
    "cnn2.add(Dense(64, activation='relu'))\n",
    "cnn2.add(Dense(1, activation='sigmoid'))\n",
    "\n",
    "# Let's train the model \n",
    "cnn2.compile(loss='binary_crossentropy', # 'categorical_crossentropy' 'mean_squared_error'\n",
    "              optimizer='rmsprop', # 'adadelta' 'rmsprop'\n",
    "              metrics=['accuracy'])\n",
    "cnn2.summary()"
   ]
  },
  {
   "cell_type": "code",
   "execution_count": 12,
   "metadata": {},
   "outputs": [
    {
     "name": "stdout",
     "output_type": "stream",
     "text": [
      "Train on 27046 samples, validate on 5512 samples\n",
      "Epoch 1/10\n",
      "27046/27046 [==============================] - 45s 2ms/step - loss: 0.3212 - acc: 0.8786 - val_loss: 0.1894 - val_acc: 0.9481\n",
      "Epoch 2/10\n",
      "27046/27046 [==============================] - 37s 1ms/step - loss: 0.1757 - acc: 0.9481 - val_loss: 0.1761 - val_acc: 0.9485\n",
      "Epoch 3/10\n",
      "27046/27046 [==============================] - 37s 1ms/step - loss: 0.1634 - acc: 0.9499 - val_loss: 0.1622 - val_acc: 0.9523\n",
      "Epoch 4/10\n",
      "27046/27046 [==============================] - 37s 1ms/step - loss: 0.1644 - acc: 0.9514 - val_loss: 0.1814 - val_acc: 0.9459\n",
      "Epoch 5/10\n",
      "27046/27046 [==============================] - 37s 1ms/step - loss: 0.1570 - acc: 0.9535 - val_loss: 0.1480 - val_acc: 0.9499\n",
      "Epoch 6/10\n",
      "27046/27046 [==============================] - 37s 1ms/step - loss: 0.1629 - acc: 0.9553 - val_loss: 0.1491 - val_acc: 0.9523\n",
      "Epoch 7/10\n",
      "27046/27046 [==============================] - 37s 1ms/step - loss: 0.1477 - acc: 0.9545 - val_loss: 0.1504 - val_acc: 0.9474\n",
      "Epoch 8/10\n",
      "27046/27046 [==============================] - 37s 1ms/step - loss: 0.1466 - acc: 0.9541 - val_loss: 0.1581 - val_acc: 0.9468\n",
      "Epoch 9/10\n",
      "27046/27046 [==============================] - 37s 1ms/step - loss: 0.1460 - acc: 0.9543 - val_loss: 0.1601 - val_acc: 0.9381\n",
      "Epoch 10/10\n",
      "27046/27046 [==============================] - 37s 1ms/step - loss: 0.1435 - acc: 0.9560 - val_loss: 0.1489 - val_acc: 0.9501\n"
     ]
    },
    {
     "data": {
      "image/png": "[encoded data removed]",
      "text/plain": [
       "<Figure size 720x288 with 4 Axes>"
      ]
     },
     "metadata": {},
     "output_type": "display_data"
    }
   ],
   "source": [
    "history = cnn2.fit(x_train, y_train, \n",
    "        batch_size=64, epochs=10, \n",
    "        shuffle=True, verbose=1,\n",
    "        validation_data=(x_test,y_test))\n",
    "\n",
    "plt.figure(figsize=(10,4))\n",
    "plt.subplot(2,2,1)\n",
    "plt.plot(history.history['acc'])\n",
    "\n",
    "plt.ylabel('Accuracy %')\n",
    "plt.title('Training')\n",
    "plt.subplot(2,2,2)\n",
    "plt.plot(history.history['val_acc'])\n",
    "plt.title('Validation')\n",
    "\n",
    "plt.subplot(2,2,3)\n",
    "plt.plot(history.history['loss'])\n",
    "plt.ylabel('MSE Training Loss')\n",
    "plt.xlabel('epochs')\n",
    "\n",
    "plt.subplot(2,2,4)\n",
    "plt.plot(history.history['val_loss'])\n",
    "plt.xlabel('epochs')\n",
    "plt.show()"
   ]
  },
  {
   "cell_type": "code",
   "execution_count": null,
   "metadata": {},
   "outputs": [],
   "source": [
    "case1 = 0.0 # both models are correct\n",
    "case2 = 0.0 # MLP correct, NN incorrect\n",
    "case3 = 0.0 # NN correct, MPL incorrect\n",
    "case4 = 0.0 # Both incorrect\n",
    "yhat1 = np.argmax(model1.predict(x_test)\n",
    "yhat2 = np.argmax(model2.predict(x_test)\n",
    "for i, value in enumerate(y_test):\n",
    "    if ((value == yhat1[i]) and (value == yhat2[i])):\n",
    "        case1 += 1\n",
    "    elif ((value == yhat1[i]) and (value != yhat2[i])):\n",
    "        case2 += 1\n",
    "    elif ((value != yhat1[i]) and (value == yhat2[i])):\n",
    "        case3 += 1\n",
    "    elif ((value != yhat1[i]) and (value != yhat2[i])):\n",
    "        case4 += 1\n",
    "    else:\n",
    "        print(value, yhat2[i], yhat1[i])\n",
    "case1 /= 6\n",
    "case2 /= 6\n",
    "case3 /= 6\n",
    "case4 /= 6\n",
    "print(np.round(case1), \" | \", np.round(case2))\n",
    "print(np.round(case3), \" | \", np.round(case4))"
   ]
  },
  {
   "cell_type": "code",
   "execution_count": null,
   "metadata": {},
   "outputs": [],
   "source": [
    "from sklearn import metrics as mt\n",
    "from matplotlib import pyplot as plt\n",
    "import seaborn as sns\n",
    "%matplotlib inline\n",
    "\n",
    "def compare_mlp_cnn(cnn, mlp, X_test, y_test):\n",
    "    plt.figure(figsize=(15,5))\n",
    "    if cnn is not None:\n",
    "        yhat_cnn = np.argmax(cnn.predict(np.expand_dims(X_test, axis=1)), axis=1)\n",
    "        acc_cnn = mt.accuracy_score(y_test,yhat_cnn)\n",
    "        plt.subplot(1,2,1)\n",
    "        cm = mt.confusion_matrix(y_test,yhat_cnn)\n",
    "        cm = cm/np.sum(cm,axis=1)[:,np.newaxis]\n",
    "        sns.heatmap(cm, annot=True, fmt='.2f')\n",
    "        plt.title('CNN: '+str(acc_cnn))\n",
    "    \n",
    "    if mlp is not None:\n",
    "        yhat_mlp = np.argmax(mlp.predict(X_test), axis=1)\n",
    "        acc_mlp = mt.accuracy_score(y_test,yhat_mlp)\n",
    "        plt.subplot(1,2,2)\n",
    "        cm = mt.confusion_matrix(y_test,yhat_mlp)\n",
    "        cm = cm/np.sum(cm,axis=1)[:,np.newaxis]\n",
    "        sns.heatmap(cm,annot=True, fmt='.2f')\n",
    "        plt.title('MLP: '+str(acc_mlp))"
   ]
  },
  {
   "cell_type": "markdown",
   "metadata": {},
   "source": [
    "## Alexnet style CNN"
   ]
  },
  {
   "cell_type": "code",
   "execution_count": null,
   "metadata": {},
   "outputs": [],
   "source": [
    "%%time\n",
    "\n",
    "\n",
    "cnn = Sequential()\n",
    "# let's start with an AlexNet style convolutional phase\n",
    "cnn.add(Conv2D(filters=32,\n",
    "                kernel_size=(3,3),\n",
    "                input_shape = (128,128,3),\n",
    "                padding='same', \n",
    "                activation='linear',data_format=\"channels_last\")) # more compact syntax\n",
    "# cnn.add(MaxPooling2D(pool_size=(2, 2)))\n",
    "# no max pool before next conv layer!!\n",
    "cnn.add(Conv2D(filters=64,\n",
    "                kernel_size=(3,3), \n",
    "                padding='same', \n",
    "                activation='relu',data_format=\"channels_last\")) # more compact syntax\n",
    "cnn.add(MaxPooling2D(pool_size=(2, 2)))\n",
    "    \n",
    "\n",
    "# add one layer on flattened output\n",
    "cnn.add(Dropout(0.25))\n",
    "cnn.add(Flatten())\n",
    "cnn.add(Dense(128, activation='relu'))\n",
    "cnn.add(Dropout(0.5))\n",
    "cnn.add(Dense(64, activation='relu'))\n",
    "cnn.add(Dense(1, activation='sigmoid'))\n",
    "\n",
    "# Let's train the model \n",
    "cnn.compile(optimizer='adam',\n",
    "              loss='binary_crossentropy', # 'adadelta' 'rmsprop'\n",
    "              metrics=['accuracy'])\n",
    "cnn.summary()"
   ]
  },
  {
   "cell_type": "code",
   "execution_count": null,
   "metadata": {},
   "outputs": [],
   "source": [
    "# we need to exapnd the dimensions here to give the \n",
    "#   \"channels\" dimension expected by Keras\n",
    "# cnn.fit(x_train, y_train, \n",
    "#         batch_size=32, epochs=30, verbose=1,\n",
    "#         validation_data=(x_test,y_test),\n",
    "#         callbacks=[EarlyStopping(monitor='val_loss', patience=3)])\n",
    "history = cnn.fit_generator(datagen.flow(x_train, y_train, batch_size=128), \n",
    "                   steps_per_epoch=int(len(x_train)/128), # how many generators to go through per epoch\n",
    "                   epochs=5, verbose=1,\n",
    "                   validation_data=(x_test,y_test)\n",
    "                  )\n",
    "plt.figure(figsize=(10,4))\n",
    "plt.subplot(2,2,1)\n",
    "plt.plot(history.history['acc'])\n",
    "\n",
    "plt.ylabel('Accuracy %')\n",
    "plt.title('Training')\n",
    "plt.subplot(2,2,2)\n",
    "plt.plot(history.history['val_acc'])\n",
    "plt.title('Validation')\n",
    "\n",
    "plt.subplot(2,2,3)\n",
    "plt.plot(history.history['loss'])\n",
    "plt.ylabel('MSE Training Loss')\n",
    "plt.xlabel('epochs')\n",
    "\n",
    "plt.subplot(2,2,4)\n",
    "plt.plot(history.history['val_loss'])\n",
    "plt.xlabel('epochs')\n",
    "plt.show()"
   ]
  },
  {
   "cell_type": "code",
   "execution_count": null,
   "metadata": {},
   "outputs": [],
   "source": []
  }
 ],
 "metadata": {
  "kernelspec": {
   "display_name": "Python [conda env:tensorflow_p36]",
   "language": "python",
   "name": "conda-env-tensorflow_p36-py"
  },
  "language_info": {
   "codemirror_mode": {
    "name": "ipython",
    "version": 3
   },
   "file_extension": ".py",
   "mimetype": "text/x-python",
   "name": "python",
   "nbconvert_exporter": "python",
   "pygments_lexer": "ipython3",
   "version": "3.6.5"
  }
 },
 "nbformat": 4,
 "nbformat_minor": 2
}
