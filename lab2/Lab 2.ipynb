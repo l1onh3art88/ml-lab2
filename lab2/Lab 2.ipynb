{
 "cells": [
  {
   "cell_type": "markdown",
   "metadata": {},
   "source": [
    "# Lab 2  - Image Processing\n",
    "\n",
    "### Names:\n",
    "#### Spencer Bernardo-Cheng, Rob Keehan, Max Goldstein"
   ]
  },
  {
   "cell_type": "code",
   "execution_count": 10,
   "metadata": {},
   "outputs": [
    {
     "name": "stdout",
     "output_type": "stream",
     "text": [
      "X_data shape: (27558,)\n"
     ]
    }
   ],
   "source": [
    "import pandas as pd\n",
    "import numpy as np\n",
    "import glob\n",
    "import cv2\n",
    "# stack overflow example taken from: https://stackoverflow.com/questions/37747021/create-numpy-array-of-images\n",
    "X_data = []\n",
    "files = glob.glob (\"/Users/Rkeehan/Desktop/ml-lab2/lab2/cell_images/Parasitized/*.png\")\n",
    "for myFile in files:\n",
    "    image = cv2.imread(myFile,cv2.IMREAD_COLOR)\n",
    "    X_data.append (image)\n",
    "files = glob.glob (\"/Users/Rkeehan/Desktop/ml-lab2/lab2/cell_images/Uninfected/*.png\")\n",
    "for myFile in files:\n",
    "    image = cv2.imread(myFile,cv2.IMREAD_COLOR)\n",
    "    X_data.append (image)\n",
    "print('X_data shape:', np.array(X_data).shape)"
   ]
  },
  {
   "cell_type": "code",
   "execution_count": null,
   "metadata": {
    "collapsed": true
   },
   "outputs": [],
   "source": []
  }
 ],
 "metadata": {
  "kernelspec": {
   "display_name": "Python 3",
   "language": "python",
   "name": "python3"
  },
  "language_info": {
   "codemirror_mode": {
    "name": "ipython",
    "version": 3
   },
   "file_extension": ".py",
   "mimetype": "text/x-python",
   "name": "python",
   "nbconvert_exporter": "python",
   "pygments_lexer": "ipython3",
   "version": "3.6.8"
  }
 },
 "nbformat": 4,
 "nbformat_minor": 2
}
