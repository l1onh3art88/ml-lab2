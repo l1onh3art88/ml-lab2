{
 "cells": [
  {
   "cell_type": "markdown",
   "metadata": {},
   "source": [
    "# Names \n",
    "Spencer Bernardo-Cheng\n",
    "Max Goldstein\n",
    "Robbie Keehan"
   ]
  },
  {
   "cell_type": "markdown",
   "metadata": {},
   "source": [
    "# Data Preparation"
   ]
  },
  {
   "cell_type": "code",
   "execution_count": 8,
   "metadata": {},
   "outputs": [
    {
     "name": "stderr",
     "output_type": "stream",
     "text": [
      "//anaconda3/envs/mlenv/lib/python3.7/site-packages/ipykernel_launcher.py:50: FutureWarning: set_value is deprecated and will be removed in a future release. Please use .at[] or .iat[] accessors instead\n"
     ]
    }
   ],
   "source": [
    "import numpy as np\n",
    "import pandas as pd\n",
    "datafb = pd.read_csv(\"./FB.csv\")\n",
    "datagoogle = pd.read_csv(\"./GOOGL.csv\")\n",
    "datamsft = pd.read_csv(\"./MSFT.csv\")\n",
    "dataam = pd.read_csv(\"./AMZN (1).csv\")\n",
    "datanflx = pd.read_csv(\"./NFLX.csv\")\n",
    "\n",
    "del datafb['Date']\n",
    "del datagoogle['Date']\n",
    "del datamsft['Date']\n",
    "del datanflx['Date']\n",
    "\n",
    "\n",
    "data = pd.concat([datafb, datagoogle, datamsft,datanflx, dataam ], axis=1, sort=False)\n",
    "data = data[89:]\n",
    "del data['Change']\n",
    "del data['Gain']\n",
    "del data['Loss']\n",
    "del data['Average Gain']\n",
    "del data['Average Loss']\n",
    "del data['RS']\n",
    "del data['DM+1']\n",
    "del data['DM-1']\n",
    "del data['TR-14']\n",
    "del data['DM+1-14']\n",
    "del data['DM-1+14']\n",
    "del data['dl+1-14']\n",
    "del data['dl-1-14']\n",
    "del data['dl14diff']\n",
    "del data['dl14sum']\n",
    "del data['DX']\n",
    "del data['TR']\n",
    "ogdates = []\n",
    "for val in data['Date']:\n",
    "    ogdates.append(val)\n",
    "del data['Date']\n",
    "\n",
    "predictedDays = 14\n",
    "up = .03\n",
    "down =-.03\n",
    "## Time difference the data\n",
    "colheaders = data.columns[0:-3]\n",
    "og = []\n",
    "for val in data['Close-amzn']:\n",
    "    og.append(val)\n",
    "for header in colheaders: \n",
    "    for i in range(1, len(data)):\n",
    "        perchange =((data[header].iloc[i]) - (data[header].iloc[i - 1]))/float(data[header].iloc[i-1])\n",
    "        data.set_value(89+i,\"pc-\"+header,perchange)\n",
    "#         data[\"pc\"+header].at[90+i]= perchange\n",
    "data = data[1:]\n",
    "ydata = data['pc-Close-amzn']\n",
    "# ydata = ydata.apply(lambda x:2 if x>=up else (1 if (x< up and x > down) else 0))\n",
    "ydata = pd.DataFrame(ydata)\n",
    "ydata['newy'] = \"\"\n",
    "# created target data in format to match output of multiple timesteps of 14 days ahead\n",
    "# [0,1,2,3,4,5,6,7]\n",
    "# [1,2,3,4,5,6,7,8]\n",
    "for index, row in ydata.iterrows():\n",
    "    temp = np.array(ydata['pc-Close-amzn'][index-90:index-90+predictedDays].values)\n",
    "    ydata['newy'].at[index] = temp\n",
    "    \n",
    "# removed last 14 because their targets are not able to created\n",
    "ydata = ydata[0:-(predictedDays-1)]\n",
    "data = data[0:-(predictedDays-1)]\n",
    "\n",
    "del ydata['pc-Close-amzn']\n",
    "\n",
    "xdata =data[['RSI-14 Day', 'ADX',\n",
    "       'pc-Open-fb', 'pc-High-fb', 'pc-Low-fb', 'pc-Close-fb',\n",
    "       'pc-Adj Close-fb', 'pc-Volume-fb', 'pc-Open-googl', 'pc-High-googl',\n",
    "       'pc-Low-googl', 'pc-Close-googl', 'pc-Adj Close-googl',\n",
    "       'pc-Volume-googl', 'pc-Open-msft', 'pc-High-msft', 'pc-Low-msft',\n",
    "       'pc-Close-msft', 'pc-Adj Close-msft', 'pc-Volume-msft', 'pc-Open-nflx',\n",
    "       'pc-High-nflx', 'pc-Low-nflx', 'pc-Close-nflx', 'pc-Adj Close-nflx',\n",
    "       'pc-Volume-nflx', 'pc-Open-amzn', 'pc-High-amzn', 'pc-Low-amzn',\n",
    "       'pc-Close-amzn', 'pc-Adj Close-amzn', 'pc-Volume-amzn', 'pc-SMA-7',\n",
    "       'pc-SMA-21', 'pc-SMA-90']]\n",
    "\n",
    "\n",
    "data = data[0:-1]\n",
    "xdata = xdata[0:-1]\n",
    "ydata = ydata[0:-1]\n",
    "# data = data.T\n"
   ]
  },
  {
   "cell_type": "markdown",
   "metadata": {},
   "source": [
    "# One Hot Encoding The Target Data"
   ]
  },
  {
   "cell_type": "code",
   "execution_count": 9,
   "metadata": {},
   "outputs": [
    {
     "name": "stdout",
     "output_type": "stream",
     "text": [
      "                                                 newy\n",
      "90  [-0.03126685348001901, -0.023788658883803833, ...\n",
      "91  [-0.023788658883803833, -0.0031430016910281716...\n",
      "92  [-0.0031430016910281716, -0.007616083827630422...\n",
      "93  [-0.007616083827630422, 0.00750945697512207, -...\n",
      "94  [0.00750945697512207, -0.0009828446509949397, ...\n",
      "                                                   newy\n",
      "90    [-0.03126685348001901, -0.023788658883803833, ...\n",
      "91    [-0.023788658883803833, -0.0031430016910281716...\n",
      "92    [-0.0031430016910281716, -0.007616083827630422...\n",
      "93    [-0.007616083827630422, 0.00750945697512207, -...\n",
      "94    [0.00750945697512207, -0.0009828446509949397, ...\n",
      "...                                                 ...\n",
      "1873  [-0.007968049902658595, 0.0035842157954330814,...\n",
      "1874  [0.0035842157954330814, -0.01399888357705284, ...\n",
      "1875  [-0.01399888357705284, 0.000849913019005562, -...\n",
      "1876  [0.000849913019005562, -0.008611641517542337, ...\n",
      "1877  [-0.008611641517542337, 0.007496472572400493, ...\n",
      "\n",
      "[1788 rows x 1 columns]\n"
     ]
    }
   ],
   "source": [
    "from keras.utils.np_utils import to_categorical\n",
    "print(ydata.head())\n",
    "# ydata['newy'] = ydata['newy'].apply(lambda x: to_categorical(x,3))\n",
    "print(ydata)"
   ]
  },
  {
   "cell_type": "markdown",
   "metadata": {},
   "source": [
    "# Min-Max Scaling the Time Series"
   ]
  },
  {
   "cell_type": "code",
   "execution_count": 10,
   "metadata": {},
   "outputs": [
    {
     "name": "stdout",
     "output_type": "stream",
     "text": [
      "[[0.35811382 0.15022488 0.40722014 ... 0.53721892 0.45230866 0.64160589]\n",
      " [0.26414926 0.12331708 0.35961381 ... 0.50635447 0.41867806 0.57327146]\n",
      " [0.25300192 0.10448737 0.40286589 ... 0.51153038 0.41312322 0.576277  ]\n",
      " ...\n",
      " [0.3029723  0.1344608  0.461637   ... 0.50352112 0.48231708 0.23750753]\n",
      " [0.31038595 0.1153046  0.38866776 ... 0.50862139 0.47320208 0.21748327]\n",
      " [0.25243424 0.13533161 0.42314792 ... 0.49730187 0.44639693 0.21806241]]\n"
     ]
    }
   ],
   "source": [
    "from sklearn import preprocessing\n",
    "\n",
    "min_max_scaler = preprocessing.MinMaxScaler()\n",
    "x_scaled = min_max_scaler.fit_transform(xdata.iloc[:,:].values)\n",
    "print(x_scaled)\n",
    "\n"
   ]
  },
  {
   "cell_type": "markdown",
   "metadata": {},
   "source": [
    "# Utilizing Time Series Generator"
   ]
  },
  {
   "cell_type": "code",
   "execution_count": 72,
   "metadata": {},
   "outputs": [
    {
     "name": "stdout",
     "output_type": "stream",
     "text": [
      "(1698, 14)\n"
     ]
    }
   ],
   "source": [
    "from keras.models import Sequential\n",
    "from keras.layers import Dense\n",
    "from numpy import hstack\n",
    "from keras.models import Sequential\n",
    "from keras.layers import LSTM, Lambda, Dropout,GRU\n",
    "from keras.preprocessing.sequence import TimeseriesGenerator\n",
    "\n",
    "n_input = 2\n",
    "series = np.array(x_scaled)\n",
    "target = np.array(ydata)\n",
    "generator = TimeseriesGenerator(series, target, length=90, batch_size=1)\n",
    "xtime = []\n",
    "ytarget =[]\n",
    "for i in range(len(generator)):\n",
    "    x, y = generator[i]\n",
    "    xtime.append(x[0])\n",
    "xtime = np.array(xtime)\n",
    "\n",
    "target = target[90:]\n",
    "newtarget = []\n",
    "for val in target:\n",
    "    newtarget.append(np.array(val[0]))\n",
    "ytarget = np.array(newtarget)\n",
    "print(ytarget.shape)\n"
   ]
  },
  {
   "cell_type": "markdown",
   "metadata": {},
   "source": [
    "# Time Series Fold Splits"
   ]
  },
  {
   "cell_type": "code",
   "execution_count": 73,
   "metadata": {},
   "outputs": [],
   "source": [
    "from sklearn.model_selection import train_test_split\n",
    "import keras.utils\n",
    "from keras import utils as np_utils\n",
    "from sklearn.model_selection import TimeSeriesSplit\n",
    "# for train_index, test_index in tscv.split(xtime,ytarget):\n",
    "#     print(\"TRAIN:\", train_index, \"TEST:\", test_index)\n",
    "#     x_train, x_test = xtime[train_index], xtime[test_index]\n",
    "#     y_train, y_test = ytarget[train_index], ytarget[test_index]\n",
    "    \n",
    "    \n",
    "    \n",
    "x_train,x_test,y_train,y_test = train_test_split(xtime, ytarget, test_size = 1/4)\n",
    "\n",
    "\n",
    "\n",
    "y_train = y_train.reshape(1273,14,1)\n",
    "y_test= y_test.reshape(425,14,1)\n",
    "\n"
   ]
  },
  {
   "cell_type": "markdown",
   "metadata": {},
   "source": [
    "# LSTM"
   ]
  },
  {
   "cell_type": "code",
   "execution_count": 35,
   "metadata": {
    "scrolled": true
   },
   "outputs": [
    {
     "name": "stdout",
     "output_type": "stream",
     "text": [
      "_________________________________________________________________\n",
      "Layer (type)                 Output Shape              Param #   \n",
      "=================================================================\n",
      "lstm_2 (LSTM)                (None, 90, 100)           54400     \n",
      "_________________________________________________________________\n",
      "lambda_2 (Lambda)            (None, 14, 100)           0         \n",
      "_________________________________________________________________\n",
      "dense_2 (Dense)              (None, 14, 1)             101       \n",
      "=================================================================\n",
      "Total params: 54,501\n",
      "Trainable params: 54,501\n",
      "Non-trainable params: 0\n",
      "_________________________________________________________________\n",
      "WARNING:tensorflow:From //anaconda3/envs/mlenv/lib/python3.7/site-packages/tensorflow/python/ops/math_ops.py:3066: to_int32 (from tensorflow.python.ops.math_ops) is deprecated and will be removed in a future version.\n",
      "Instructions for updating:\n",
      "Use tf.cast instead.\n",
      "Train on 1273 samples, validate on 425 samples\n",
      "Epoch 1/50\n",
      "1273/1273 [==============================] - 5s 4ms/step - loss: 0.0035 - val_loss: 3.7522e-04\n",
      "Epoch 2/50\n",
      "1273/1273 [==============================] - 4s 3ms/step - loss: 7.7170e-04 - val_loss: 3.5023e-04\n",
      "Epoch 3/50\n",
      "1273/1273 [==============================] - 4s 3ms/step - loss: 6.0301e-04 - val_loss: 3.5585e-04\n",
      "Epoch 4/50\n",
      "1273/1273 [==============================] - 4s 3ms/step - loss: 4.9682e-04 - val_loss: 3.4566e-04\n",
      "Epoch 5/50\n",
      "1273/1273 [==============================] - 4s 3ms/step - loss: 4.6306e-04 - val_loss: 3.4325e-04\n",
      "Epoch 6/50\n",
      "1273/1273 [==============================] - 4s 3ms/step - loss: 4.5860e-04 - val_loss: 3.4217e-04\n",
      "Epoch 7/50\n",
      "1273/1273 [==============================] - 5s 4ms/step - loss: 4.3000e-04 - val_loss: 3.3942e-04\n",
      "Epoch 8/50\n",
      "1273/1273 [==============================] - 4s 3ms/step - loss: 4.0987e-04 - val_loss: 3.3783e-04\n",
      "Epoch 9/50\n",
      "1273/1273 [==============================] - 4s 3ms/step - loss: 4.1383e-04 - val_loss: 3.3888e-04\n",
      "Epoch 10/50\n",
      "1273/1273 [==============================] - 5s 4ms/step - loss: 3.9723e-04 - val_loss: 3.4054e-04\n",
      "Epoch 11/50\n",
      "1273/1273 [==============================] - 5s 4ms/step - loss: 3.8615e-04 - val_loss: 3.4562e-04\n",
      "Epoch 12/50\n",
      "1273/1273 [==============================] - 5s 4ms/step - loss: 3.7876e-04 - val_loss: 3.3989e-04\n",
      "Epoch 13/50\n",
      "1273/1273 [==============================] - 4s 4ms/step - loss: 3.8240e-04 - val_loss: 3.6869e-04\n",
      "Epoch 14/50\n",
      "1273/1273 [==============================] - 5s 4ms/step - loss: 3.8099e-04 - val_loss: 3.5412e-04\n",
      "Epoch 15/50\n",
      "1273/1273 [==============================] - 4s 3ms/step - loss: 3.6944e-04 - val_loss: 3.4224e-04\n",
      "Epoch 16/50\n",
      "1273/1273 [==============================] - 5s 4ms/step - loss: 3.7204e-04 - val_loss: 3.6181e-04\n",
      "Epoch 17/50\n",
      "1273/1273 [==============================] - 4s 3ms/step - loss: 3.7312e-04 - val_loss: 3.3591e-04\n",
      "Epoch 18/50\n",
      "1273/1273 [==============================] - 4s 3ms/step - loss: 3.6324e-04 - val_loss: 3.3575e-04\n",
      "Epoch 19/50\n",
      "1273/1273 [==============================] - 4s 3ms/step - loss: 3.6740e-04 - val_loss: 3.3328e-04\n",
      "Epoch 20/50\n",
      "1273/1273 [==============================] - 5s 4ms/step - loss: 3.6043e-04 - val_loss: 3.3216e-04\n",
      "Epoch 21/50\n",
      "1273/1273 [==============================] - 5s 4ms/step - loss: 3.6275e-04 - val_loss: 3.4271e-04\n",
      "Epoch 22/50\n",
      "1273/1273 [==============================] - 4s 3ms/step - loss: 3.6711e-04 - val_loss: 3.3623e-04\n",
      "Epoch 23/50\n",
      "1273/1273 [==============================] - 4s 3ms/step - loss: 3.6608e-04 - val_loss: 3.5146e-04\n",
      "Epoch 24/50\n",
      "1273/1273 [==============================] - 4s 3ms/step - loss: 3.6308e-04 - val_loss: 3.3139e-04\n",
      "Epoch 25/50\n",
      "1273/1273 [==============================] - 4s 3ms/step - loss: 3.5619e-04 - val_loss: 3.3345e-04\n",
      "Epoch 26/50\n",
      "1273/1273 [==============================] - 4s 3ms/step - loss: 3.6007e-04 - val_loss: 3.3128e-04\n",
      "Epoch 27/50\n",
      "1273/1273 [==============================] - 4s 3ms/step - loss: 3.6020e-04 - val_loss: 3.3430e-04\n",
      "Epoch 28/50\n",
      "1273/1273 [==============================] - 4s 3ms/step - loss: 3.6139e-04 - val_loss: 3.3871e-04\n",
      "Epoch 29/50\n",
      "1273/1273 [==============================] - 4s 3ms/step - loss: 3.5527e-04 - val_loss: 3.4143e-04\n",
      "Epoch 30/50\n",
      "1273/1273 [==============================] - 4s 3ms/step - loss: 3.7360e-04 - val_loss: 3.3318e-04\n",
      "Epoch 31/50\n",
      "1273/1273 [==============================] - 4s 3ms/step - loss: 3.6821e-04 - val_loss: 3.3435e-04\n",
      "Epoch 32/50\n",
      "1273/1273 [==============================] - 4s 3ms/step - loss: 3.5412e-04 - val_loss: 3.3130e-04\n",
      "Epoch 33/50\n",
      "1273/1273 [==============================] - 4s 3ms/step - loss: 3.5514e-04 - val_loss: 3.3260e-04\n",
      "Epoch 34/50\n",
      "1273/1273 [==============================] - 4s 3ms/step - loss: 3.5796e-04 - val_loss: 3.3869e-04\n",
      "Epoch 35/50\n",
      "1273/1273 [==============================] - 3s 3ms/step - loss: 3.6283e-04 - val_loss: 3.4420e-04\n",
      "Epoch 36/50\n",
      "1273/1273 [==============================] - 4s 3ms/step - loss: 3.6680e-04 - val_loss: 3.5201e-04\n",
      "Epoch 37/50\n",
      "1273/1273 [==============================] - 4s 3ms/step - loss: 3.5908e-04 - val_loss: 3.3300e-04\n",
      "Epoch 38/50\n",
      "1273/1273 [==============================] - 4s 3ms/step - loss: 3.5439e-04 - val_loss: 3.3198e-04\n",
      "Epoch 39/50\n",
      "1273/1273 [==============================] - 4s 3ms/step - loss: 3.5420e-04 - val_loss: 3.3581e-04\n",
      "Epoch 40/50\n",
      "1273/1273 [==============================] - 4s 3ms/step - loss: 3.5625e-04 - val_loss: 3.3036e-04\n",
      "Epoch 41/50\n",
      "1273/1273 [==============================] - 4s 4ms/step - loss: 3.5409e-04 - val_loss: 3.3615e-04\n",
      "Epoch 42/50\n",
      "1273/1273 [==============================] - 5s 4ms/step - loss: 3.5110e-04 - val_loss: 3.3066e-04\n",
      "Epoch 43/50\n",
      "1273/1273 [==============================] - 4s 3ms/step - loss: 3.5233e-04 - val_loss: 3.3278e-04\n",
      "Epoch 44/50\n",
      "1273/1273 [==============================] - 4s 3ms/step - loss: 3.5673e-04 - val_loss: 3.3325e-04\n",
      "Epoch 45/50\n",
      "1273/1273 [==============================] - 4s 3ms/step - loss: 3.5615e-04 - val_loss: 3.3333e-04\n",
      "Epoch 46/50\n",
      "1273/1273 [==============================] - 5s 4ms/step - loss: 3.5993e-04 - val_loss: 3.3730e-04\n",
      "Epoch 47/50\n",
      "1273/1273 [==============================] - 4s 3ms/step - loss: 3.6850e-04 - val_loss: 3.5866e-04\n",
      "Epoch 48/50\n",
      "1273/1273 [==============================] - 5s 4ms/step - loss: 3.5184e-04 - val_loss: 3.3922e-04\n",
      "Epoch 49/50\n",
      "1273/1273 [==============================] - 5s 4ms/step - loss: 3.5075e-04 - val_loss: 3.3019e-04\n",
      "Epoch 50/50\n",
      "1273/1273 [==============================] - 5s 4ms/step - loss: 3.4795e-04 - val_loss: 3.4000e-04\n"
     ]
    }
   ],
   "source": [
    "\n",
    "model = Sequential()\n",
    "model.add(LSTM(100,dropout=.2,activation='relu', input_shape=(90, 35), return_sequences=True))\n",
    "model.add(Lambda(lambda x: x[:, -predictedDays:, :]))\n",
    "model.add(Dense(1))\n",
    "\n",
    "model.summary()\n",
    "model.compile(optimizer='adam', loss='mse')\n",
    "\n",
    "# fit model\n",
    "history = model.fit(x_train, y_train, validation_data=(x_test,y_test), epochs=50, verbose=1)\n"
   ]
  },
  {
   "cell_type": "markdown",
   "metadata": {},
   "source": [
    "# LSTM Validation & Training Loss"
   ]
  },
  {
   "cell_type": "code",
   "execution_count": 37,
   "metadata": {},
   "outputs": [
    {
     "data": {
      "image/png": "[encoded data removed]",
      "text/plain": [
       "<Figure size 432x288 with 2 Axes>"
      ]
     },
     "metadata": {
      "needs_background": "light"
     },
     "output_type": "display_data"
    }
   ],
   "source": [
    "from matplotlib import pyplot as plt\n",
    "\n",
    "plt.subplot(2,2,3)\n",
    "plt.plot(history.history['loss'])\n",
    "plt.ylabel('MSE Training Loss')\n",
    "plt.xlabel('epochs')\n",
    "\n",
    "plt.subplot(2,2,4)\n",
    "plt.plot(history.history['val_loss'])\n",
    "plt.xlabel('epochs')\n",
    "plt.show()"
   ]
  },
  {
   "cell_type": "markdown",
   "metadata": {},
   "source": [
    "# GRU"
   ]
  },
  {
   "cell_type": "code",
   "execution_count": 71,
   "metadata": {},
   "outputs": [
    {
     "name": "stdout",
     "output_type": "stream",
     "text": [
      "_________________________________________________________________\n",
      "Layer (type)                 Output Shape              Param #   \n",
      "=================================================================\n",
      "gru_8 (GRU)                  (None, 90, 100)           40800     \n",
      "_________________________________________________________________\n",
      "lambda_8 (Lambda)            (None, 14, 100)           0         \n",
      "_________________________________________________________________\n",
      "dense_8 (Dense)              (None, 14, 1)             101       \n",
      "=================================================================\n",
      "Total params: 40,901\n",
      "Trainable params: 40,901\n",
      "Non-trainable params: 0\n",
      "_________________________________________________________________\n",
      "Train on 1273 samples, validate on 425 samples\n",
      "Epoch 1/600\n",
      "1273/1273 [==============================] - 5s 4ms/step - loss: 0.0028 - val_loss: 5.0725e-04\n",
      "Epoch 2/600\n",
      "1273/1273 [==============================] - 3s 3ms/step - loss: 9.1358e-04 - val_loss: 4.3251e-04\n",
      "Epoch 3/600\n",
      "1273/1273 [==============================] - 3s 3ms/step - loss: 6.7628e-04 - val_loss: 7.5615e-04\n",
      "Epoch 4/600\n",
      "1273/1273 [==============================] - 4s 3ms/step - loss: 5.9531e-04 - val_loss: 4.2760e-04\n",
      "Epoch 5/600\n",
      "1273/1273 [==============================] - 4s 3ms/step - loss: 5.2157e-04 - val_loss: 3.8537e-04\n",
      "Epoch 6/600\n",
      "1273/1273 [==============================] - 4s 3ms/step - loss: 4.7835e-04 - val_loss: 4.3627e-04\n",
      "Epoch 7/600\n",
      "1273/1273 [==============================] - 4s 3ms/step - loss: 4.3617e-04 - val_loss: 4.2507e-04\n",
      "Epoch 8/600\n",
      "1273/1273 [==============================] - 4s 3ms/step - loss: 4.3121e-04 - val_loss: 4.6014e-04\n",
      "Epoch 9/600\n",
      "1273/1273 [==============================] - 4s 3ms/step - loss: 3.9777e-04 - val_loss: 3.9656e-04\n",
      "Epoch 10/600\n",
      "1273/1273 [==============================] - 4s 3ms/step - loss: 3.8205e-04 - val_loss: 3.8548e-04\n",
      "Epoch 11/600\n",
      "1273/1273 [==============================] - 4s 3ms/step - loss: 3.6801e-04 - val_loss: 3.8355e-04\n",
      "Epoch 12/600\n",
      "1273/1273 [==============================] - 4s 3ms/step - loss: 3.6613e-04 - val_loss: 4.2274e-04\n",
      "Epoch 13/600\n",
      "1273/1273 [==============================] - 4s 3ms/step - loss: 3.7172e-04 - val_loss: 3.9183e-04\n",
      "Epoch 14/600\n",
      "1273/1273 [==============================] - 4s 3ms/step - loss: 4.2674e-04 - val_loss: 4.1224e-04\n",
      "Epoch 15/600\n",
      "1273/1273 [==============================] - 3s 3ms/step - loss: 3.7336e-04 - val_loss: 4.0713e-04\n",
      "Epoch 16/600\n",
      "1273/1273 [==============================] - 4s 3ms/step - loss: 3.6595e-04 - val_loss: 3.8373e-04\n",
      "Epoch 17/600\n",
      "1273/1273 [==============================] - 4s 3ms/step - loss: 3.6896e-04 - val_loss: 3.9541e-04\n",
      "Epoch 18/600\n",
      "1273/1273 [==============================] - 4s 3ms/step - loss: 3.4956e-04 - val_loss: 3.8330e-04\n",
      "Epoch 19/600\n",
      "1273/1273 [==============================] - 3s 3ms/step - loss: 3.7071e-04 - val_loss: 4.5240e-04\n",
      "Epoch 20/600\n",
      "1273/1273 [==============================] - 4s 3ms/step - loss: 3.8006e-04 - val_loss: 3.8165e-04\n",
      "Epoch 21/600\n",
      "1273/1273 [==============================] - 4s 3ms/step - loss: 3.4183e-04 - val_loss: 3.8221e-04\n",
      "Epoch 22/600\n",
      "1273/1273 [==============================] - 4s 3ms/step - loss: 3.8474e-04 - val_loss: 3.9666e-04\n",
      "Epoch 23/600\n",
      "1273/1273 [==============================] - 3s 3ms/step - loss: 3.4737e-04 - val_loss: 3.9235e-04\n",
      "Epoch 24/600\n",
      "1273/1273 [==============================] - 3s 3ms/step - loss: 3.5094e-04 - val_loss: 3.7998e-04\n",
      "Epoch 25/600\n",
      "1273/1273 [==============================] - 4s 3ms/step - loss: 3.4922e-04 - val_loss: 4.9804e-04\n",
      "Epoch 26/600\n",
      "1273/1273 [==============================] - 3s 3ms/step - loss: 3.6887e-04 - val_loss: 3.8526e-04\n",
      "Epoch 27/600\n",
      "1273/1273 [==============================] - 4s 3ms/step - loss: 3.7008e-04 - val_loss: 4.8051e-04\n",
      "Epoch 28/600\n",
      "1273/1273 [==============================] - 4s 3ms/step - loss: 3.6773e-04 - val_loss: 3.9553e-04\n",
      "Epoch 29/600\n",
      "1273/1273 [==============================] - 4s 3ms/step - loss: 3.8684e-04 - val_loss: 3.8104e-04\n",
      "Epoch 30/600\n",
      "1273/1273 [==============================] - 3s 3ms/step - loss: 3.3658e-04 - val_loss: 3.9204e-04\n",
      "Epoch 31/600\n",
      "1273/1273 [==============================] - 3s 3ms/step - loss: 3.4425e-04 - val_loss: 4.3453e-04\n",
      "Epoch 32/600\n",
      "1273/1273 [==============================] - 3s 3ms/step - loss: 3.4051e-04 - val_loss: 4.3979e-04\n",
      "Epoch 33/600\n",
      "1273/1273 [==============================] - 3s 3ms/step - loss: 3.7053e-04 - val_loss: 4.6488e-04\n",
      "Epoch 34/600\n",
      "1273/1273 [==============================] - 3s 3ms/step - loss: 3.5416e-04 - val_loss: 3.8508e-04\n",
      "Epoch 35/600\n",
      "1273/1273 [==============================] - 3s 3ms/step - loss: 3.3614e-04 - val_loss: 3.8487e-04\n",
      "Epoch 36/600\n",
      "1273/1273 [==============================] - 3s 3ms/step - loss: 3.5806e-04 - val_loss: 3.9027e-04\n",
      "Epoch 37/600\n",
      "1273/1273 [==============================] - 3s 3ms/step - loss: 3.3422e-04 - val_loss: 3.9274e-04\n",
      "Epoch 38/600\n",
      "1273/1273 [==============================] - 3s 2ms/step - loss: 3.3496e-04 - val_loss: 4.2213e-04\n",
      "Epoch 39/600\n",
      "1273/1273 [==============================] - 3s 2ms/step - loss: 3.7460e-04 - val_loss: 3.9207e-04\n",
      "Epoch 40/600\n",
      "1273/1273 [==============================] - 3s 3ms/step - loss: 3.3754e-04 - val_loss: 3.8305e-04\n",
      "Epoch 41/600\n",
      "1273/1273 [==============================] - 3s 3ms/step - loss: 3.4138e-04 - val_loss: 3.8546e-04\n",
      "Epoch 42/600\n",
      "1273/1273 [==============================] - 3s 2ms/step - loss: 3.6412e-04 - val_loss: 4.1978e-04\n",
      "Epoch 43/600\n",
      "1273/1273 [==============================] - 3s 3ms/step - loss: 3.5563e-04 - val_loss: 3.9364e-04\n",
      "Epoch 44/600\n",
      "1273/1273 [==============================] - 3s 2ms/step - loss: 3.3702e-04 - val_loss: 3.8455e-04\n",
      "Epoch 45/600\n",
      "1273/1273 [==============================] - 3s 3ms/step - loss: 3.3656e-04 - val_loss: 3.8353e-04\n",
      "Epoch 46/600\n",
      "1273/1273 [==============================] - 3s 3ms/step - loss: 3.3688e-04 - val_loss: 3.8951e-04\n",
      "Epoch 47/600\n",
      "1273/1273 [==============================] - 4s 3ms/step - loss: 3.4375e-04 - val_loss: 4.1459e-04\n",
      "Epoch 48/600\n",
      "1273/1273 [==============================] - 4s 3ms/step - loss: 3.4663e-04 - val_loss: 3.8553e-04\n",
      "Epoch 49/600\n",
      "1273/1273 [==============================] - 3s 3ms/step - loss: 3.3382e-04 - val_loss: 3.8762e-04\n",
      "Epoch 50/600\n",
      "1273/1273 [==============================] - 3s 3ms/step - loss: 3.3283e-04 - val_loss: 4.0281e-04\n",
      "Epoch 51/600\n",
      "1273/1273 [==============================] - 3s 3ms/step - loss: 3.3253e-04 - val_loss: 4.3994e-04\n",
      "Epoch 52/600\n",
      "1273/1273 [==============================] - 3s 3ms/step - loss: 3.5071e-04 - val_loss: 3.8933e-04\n",
      "Epoch 53/600\n",
      "1273/1273 [==============================] - 3s 3ms/step - loss: 3.6184e-04 - val_loss: 4.2407e-04\n",
      "Epoch 54/600\n",
      "1273/1273 [==============================] - 3s 3ms/step - loss: 3.4223e-04 - val_loss: 3.8459e-04\n",
      "Epoch 55/600\n",
      "1273/1273 [==============================] - 3s 3ms/step - loss: 3.3549e-04 - val_loss: 3.9328e-04\n",
      "Epoch 56/600\n",
      "1273/1273 [==============================] - 3s 3ms/step - loss: 3.3074e-04 - val_loss: 3.8132e-04\n",
      "Epoch 57/600\n",
      "1273/1273 [==============================] - 3s 3ms/step - loss: 3.3403e-04 - val_loss: 4.0780e-04\n",
      "Epoch 58/600\n",
      "1273/1273 [==============================] - 3s 3ms/step - loss: 3.3080e-04 - val_loss: 3.8580e-04\n",
      "Epoch 59/600\n",
      "1273/1273 [==============================] - 3s 3ms/step - loss: 3.3574e-04 - val_loss: 3.9090e-04\n",
      "Epoch 60/600\n",
      "1273/1273 [==============================] - 3s 3ms/step - loss: 3.3837e-04 - val_loss: 3.8736e-04\n",
      "Epoch 61/600\n",
      "1273/1273 [==============================] - 3s 3ms/step - loss: 3.2694e-04 - val_loss: 4.0856e-04\n",
      "Epoch 62/600\n",
      "1273/1273 [==============================] - 3s 3ms/step - loss: 3.7044e-04 - val_loss: 4.4444e-04\n",
      "Epoch 63/600\n",
      "1273/1273 [==============================] - 3s 3ms/step - loss: 3.4252e-04 - val_loss: 3.8932e-04\n",
      "Epoch 64/600\n",
      "1273/1273 [==============================] - 4s 3ms/step - loss: 3.3617e-04 - val_loss: 4.4334e-04\n",
      "Epoch 65/600\n",
      "1273/1273 [==============================] - 4s 3ms/step - loss: 3.4264e-04 - val_loss: 3.8592e-04\n",
      "Epoch 66/600\n",
      "1273/1273 [==============================] - 4s 3ms/step - loss: 3.3124e-04 - val_loss: 4.0126e-04\n",
      "Epoch 67/600\n"
     ]
    },
    {
     "name": "stdout",
     "output_type": "stream",
     "text": [
      "1273/1273 [==============================] - 4s 3ms/step - loss: 3.2065e-04 - val_loss: 4.0491e-04\n",
      "Epoch 68/600\n",
      "1273/1273 [==============================] - 3s 3ms/step - loss: 3.3479e-04 - val_loss: 3.9036e-04\n",
      "Epoch 69/600\n",
      "1273/1273 [==============================] - 4s 3ms/step - loss: 3.2909e-04 - val_loss: 4.4764e-04\n",
      "Epoch 70/600\n",
      "1273/1273 [==============================] - 3s 3ms/step - loss: 3.2823e-04 - val_loss: 3.9463e-04\n",
      "Epoch 71/600\n",
      "1273/1273 [==============================] - 3s 3ms/step - loss: 3.2776e-04 - val_loss: 4.4026e-04\n",
      "Epoch 72/600\n",
      "1273/1273 [==============================] - 3s 3ms/step - loss: 3.4735e-04 - val_loss: 3.9743e-04\n",
      "Epoch 73/600\n",
      "1273/1273 [==============================] - 3s 3ms/step - loss: 3.3153e-04 - val_loss: 3.8625e-04\n",
      "Epoch 74/600\n",
      "1273/1273 [==============================] - 3s 3ms/step - loss: 3.5498e-04 - val_loss: 4.1404e-04\n",
      "Epoch 75/600\n",
      "1273/1273 [==============================] - 4s 3ms/step - loss: 3.4269e-04 - val_loss: 3.8717e-04\n",
      "Epoch 76/600\n",
      "1273/1273 [==============================] - 4s 3ms/step - loss: 3.2221e-04 - val_loss: 3.8670e-04\n",
      "Epoch 77/600\n",
      "1273/1273 [==============================] - 4s 3ms/step - loss: 3.2656e-04 - val_loss: 3.8629e-04\n",
      "Epoch 78/600\n",
      "1273/1273 [==============================] - 3s 3ms/step - loss: 3.1934e-04 - val_loss: 3.9437e-04\n",
      "Epoch 79/600\n",
      "1273/1273 [==============================] - 3s 3ms/step - loss: 3.2707e-04 - val_loss: 3.8936e-04\n",
      "Epoch 80/600\n",
      "1273/1273 [==============================] - 3s 3ms/step - loss: 3.2310e-04 - val_loss: 3.9525e-04\n",
      "Epoch 81/600\n",
      "1273/1273 [==============================] - 3s 3ms/step - loss: 3.3105e-04 - val_loss: 3.9654e-04\n",
      "Epoch 82/600\n",
      "1273/1273 [==============================] - 3s 3ms/step - loss: 3.4952e-04 - val_loss: 3.9218e-04\n",
      "Epoch 83/600\n",
      "1273/1273 [==============================] - 3s 3ms/step - loss: 3.2748e-04 - val_loss: 3.8689e-04\n",
      "Epoch 84/600\n",
      "1273/1273 [==============================] - 3s 3ms/step - loss: 3.2307e-04 - val_loss: 3.8482e-04\n",
      "Epoch 85/600\n",
      "1273/1273 [==============================] - 3s 3ms/step - loss: 3.3261e-04 - val_loss: 4.4126e-04\n",
      "Epoch 86/600\n",
      "1273/1273 [==============================] - 3s 3ms/step - loss: 3.4085e-04 - val_loss: 4.0179e-04\n",
      "Epoch 87/600\n",
      "1273/1273 [==============================] - 3s 3ms/step - loss: 3.3820e-04 - val_loss: 3.8911e-04\n",
      "Epoch 88/600\n",
      "1273/1273 [==============================] - 3s 3ms/step - loss: 3.3804e-04 - val_loss: 3.8971e-04\n",
      "Epoch 89/600\n",
      "1273/1273 [==============================] - 3s 3ms/step - loss: 3.3600e-04 - val_loss: 3.9036e-04\n",
      "Epoch 90/600\n",
      "1273/1273 [==============================] - 3s 3ms/step - loss: 3.2387e-04 - val_loss: 3.8702e-04\n",
      "Epoch 91/600\n",
      "1273/1273 [==============================] - 3s 3ms/step - loss: 3.3878e-04 - val_loss: 4.1942e-04\n",
      "Epoch 92/600\n",
      "1273/1273 [==============================] - 3s 3ms/step - loss: 3.4466e-04 - val_loss: 4.4414e-04\n",
      "Epoch 93/600\n",
      "1273/1273 [==============================] - 3s 3ms/step - loss: 3.4144e-04 - val_loss: 3.9410e-04\n",
      "Epoch 94/600\n",
      "1273/1273 [==============================] - 3s 3ms/step - loss: 3.2538e-04 - val_loss: 4.0419e-04\n",
      "Epoch 95/600\n",
      "1273/1273 [==============================] - 3s 3ms/step - loss: 3.1975e-04 - val_loss: 3.9513e-04\n",
      "Epoch 96/600\n",
      "1273/1273 [==============================] - 3s 3ms/step - loss: 3.6487e-04 - val_loss: 3.9221e-04\n",
      "Epoch 97/600\n",
      "1273/1273 [==============================] - 3s 3ms/step - loss: 3.3912e-04 - val_loss: 3.8815e-04\n",
      "Epoch 98/600\n",
      "1273/1273 [==============================] - 3s 3ms/step - loss: 3.3742e-04 - val_loss: 3.9618e-04\n",
      "Epoch 99/600\n",
      "1273/1273 [==============================] - 3s 3ms/step - loss: 3.2791e-04 - val_loss: 3.9015e-04\n",
      "Epoch 100/600\n",
      "1273/1273 [==============================] - 3s 3ms/step - loss: 3.6282e-04 - val_loss: 4.5220e-04\n",
      "Epoch 101/600\n",
      "1273/1273 [==============================] - 4s 3ms/step - loss: 3.7033e-04 - val_loss: 3.8825e-04\n",
      "Epoch 102/600\n",
      "1273/1273 [==============================] - 3s 3ms/step - loss: 3.2343e-04 - val_loss: 4.3669e-04\n",
      "Epoch 103/600\n",
      "1273/1273 [==============================] - 3s 3ms/step - loss: 3.3655e-04 - val_loss: 4.0445e-04\n",
      "Epoch 104/600\n",
      "1273/1273 [==============================] - 3s 3ms/step - loss: 3.2514e-04 - val_loss: 4.0210e-04\n",
      "Epoch 105/600\n",
      "1273/1273 [==============================] - 3s 3ms/step - loss: 3.2295e-04 - val_loss: 3.8875e-04\n",
      "Epoch 106/600\n",
      "1273/1273 [==============================] - 3s 3ms/step - loss: 3.2643e-04 - val_loss: 4.4180e-04\n",
      "Epoch 107/600\n",
      "1273/1273 [==============================] - 3s 3ms/step - loss: 3.1964e-04 - val_loss: 3.9070e-04\n",
      "Epoch 108/600\n",
      "1273/1273 [==============================] - 3s 3ms/step - loss: 3.1547e-04 - val_loss: 4.0437e-04\n",
      "Epoch 109/600\n",
      "1273/1273 [==============================] - 3s 3ms/step - loss: 3.2413e-04 - val_loss: 3.8599e-04\n",
      "Epoch 110/600\n",
      "1273/1273 [==============================] - 4s 3ms/step - loss: 3.3097e-04 - val_loss: 4.1871e-04\n",
      "Epoch 111/600\n",
      "1273/1273 [==============================] - 4s 3ms/step - loss: 3.2268e-04 - val_loss: 3.9332e-04\n",
      "Epoch 112/600\n",
      "1273/1273 [==============================] - 3s 3ms/step - loss: 3.4852e-04 - val_loss: 4.1162e-04\n",
      "Epoch 113/600\n",
      "1273/1273 [==============================] - 3s 3ms/step - loss: 3.4773e-04 - val_loss: 4.3626e-04\n",
      "Epoch 114/600\n",
      "1273/1273 [==============================] - 4s 3ms/step - loss: 3.1694e-04 - val_loss: 3.9514e-04\n",
      "Epoch 115/600\n",
      "1273/1273 [==============================] - 4s 3ms/step - loss: 3.3220e-04 - val_loss: 3.9684e-04\n",
      "Epoch 116/600\n",
      "1273/1273 [==============================] - 4s 3ms/step - loss: 3.3050e-04 - val_loss: 4.5215e-04\n",
      "Epoch 117/600\n",
      "1273/1273 [==============================] - 4s 3ms/step - loss: 3.2602e-04 - val_loss: 4.1676e-04\n",
      "Epoch 118/600\n",
      "1273/1273 [==============================] - 3s 3ms/step - loss: 3.1909e-04 - val_loss: 3.9183e-04\n",
      "Epoch 119/600\n",
      "1273/1273 [==============================] - 4s 3ms/step - loss: 3.2642e-04 - val_loss: 4.2675e-04\n",
      "Epoch 120/600\n",
      " 320/1273 [======>.......................] - ETA: 2s - loss: 3.4367e-04"
     ]
    },
    {
     "ename": "KeyboardInterrupt",
     "evalue": "",
     "output_type": "error",
     "traceback": [
      "\u001b[0;31m---------------------------------------------------------------------------\u001b[0m",
      "\u001b[0;31mKeyboardInterrupt\u001b[0m                         Traceback (most recent call last)",
      "\u001b[0;32m<ipython-input-71-248ddadc82b7>\u001b[0m in \u001b[0;36m<module>\u001b[0;34m\u001b[0m\n\u001b[1;32m     10\u001b[0m \u001b[0;34m\u001b[0m\u001b[0m\n\u001b[1;32m     11\u001b[0m \u001b[0;31m# fit model\u001b[0m\u001b[0;34m\u001b[0m\u001b[0;34m\u001b[0m\u001b[0;34m\u001b[0m\u001b[0m\n\u001b[0;32m---> 12\u001b[0;31m \u001b[0mhistory\u001b[0m \u001b[0;34m=\u001b[0m \u001b[0mgru\u001b[0m\u001b[0;34m.\u001b[0m\u001b[0mfit\u001b[0m\u001b[0;34m(\u001b[0m\u001b[0mx_train\u001b[0m\u001b[0;34m,\u001b[0m \u001b[0my_train\u001b[0m\u001b[0;34m,\u001b[0m \u001b[0mvalidation_data\u001b[0m\u001b[0;34m=\u001b[0m\u001b[0;34m(\u001b[0m\u001b[0mx_test\u001b[0m\u001b[0;34m,\u001b[0m\u001b[0my_test\u001b[0m\u001b[0;34m)\u001b[0m\u001b[0;34m,\u001b[0m \u001b[0mepochs\u001b[0m\u001b[0;34m=\u001b[0m\u001b[0;36m600\u001b[0m\u001b[0;34m,\u001b[0m \u001b[0mverbose\u001b[0m\u001b[0;34m=\u001b[0m\u001b[0;36m1\u001b[0m\u001b[0;34m)\u001b[0m\u001b[0;34m\u001b[0m\u001b[0;34m\u001b[0m\u001b[0m\n\u001b[0m",
      "\u001b[0;32m//anaconda3/envs/mlenv/lib/python3.7/site-packages/keras/engine/training.py\u001b[0m in \u001b[0;36mfit\u001b[0;34m(self, x, y, batch_size, epochs, verbose, callbacks, validation_split, validation_data, shuffle, class_weight, sample_weight, initial_epoch, steps_per_epoch, validation_steps, **kwargs)\u001b[0m\n\u001b[1;32m   1037\u001b[0m                                         \u001b[0minitial_epoch\u001b[0m\u001b[0;34m=\u001b[0m\u001b[0minitial_epoch\u001b[0m\u001b[0;34m,\u001b[0m\u001b[0;34m\u001b[0m\u001b[0;34m\u001b[0m\u001b[0m\n\u001b[1;32m   1038\u001b[0m                                         \u001b[0msteps_per_epoch\u001b[0m\u001b[0;34m=\u001b[0m\u001b[0msteps_per_epoch\u001b[0m\u001b[0;34m,\u001b[0m\u001b[0;34m\u001b[0m\u001b[0;34m\u001b[0m\u001b[0m\n\u001b[0;32m-> 1039\u001b[0;31m                                         validation_steps=validation_steps)\n\u001b[0m\u001b[1;32m   1040\u001b[0m \u001b[0;34m\u001b[0m\u001b[0m\n\u001b[1;32m   1041\u001b[0m     def evaluate(self, x=None, y=None,\n",
      "\u001b[0;32m//anaconda3/envs/mlenv/lib/python3.7/site-packages/keras/engine/training_arrays.py\u001b[0m in \u001b[0;36mfit_loop\u001b[0;34m(model, f, ins, out_labels, batch_size, epochs, verbose, callbacks, val_f, val_ins, shuffle, callback_metrics, initial_epoch, steps_per_epoch, validation_steps)\u001b[0m\n\u001b[1;32m    197\u001b[0m                     \u001b[0mins_batch\u001b[0m\u001b[0;34m[\u001b[0m\u001b[0mi\u001b[0m\u001b[0;34m]\u001b[0m \u001b[0;34m=\u001b[0m \u001b[0mins_batch\u001b[0m\u001b[0;34m[\u001b[0m\u001b[0mi\u001b[0m\u001b[0;34m]\u001b[0m\u001b[0;34m.\u001b[0m\u001b[0mtoarray\u001b[0m\u001b[0;34m(\u001b[0m\u001b[0;34m)\u001b[0m\u001b[0;34m\u001b[0m\u001b[0;34m\u001b[0m\u001b[0m\n\u001b[1;32m    198\u001b[0m \u001b[0;34m\u001b[0m\u001b[0m\n\u001b[0;32m--> 199\u001b[0;31m                 \u001b[0mouts\u001b[0m \u001b[0;34m=\u001b[0m \u001b[0mf\u001b[0m\u001b[0;34m(\u001b[0m\u001b[0mins_batch\u001b[0m\u001b[0;34m)\u001b[0m\u001b[0;34m\u001b[0m\u001b[0;34m\u001b[0m\u001b[0m\n\u001b[0m\u001b[1;32m    200\u001b[0m                 \u001b[0mouts\u001b[0m \u001b[0;34m=\u001b[0m \u001b[0mto_list\u001b[0m\u001b[0;34m(\u001b[0m\u001b[0mouts\u001b[0m\u001b[0;34m)\u001b[0m\u001b[0;34m\u001b[0m\u001b[0;34m\u001b[0m\u001b[0m\n\u001b[1;32m    201\u001b[0m                 \u001b[0;32mfor\u001b[0m \u001b[0ml\u001b[0m\u001b[0;34m,\u001b[0m \u001b[0mo\u001b[0m \u001b[0;32min\u001b[0m \u001b[0mzip\u001b[0m\u001b[0;34m(\u001b[0m\u001b[0mout_labels\u001b[0m\u001b[0;34m,\u001b[0m \u001b[0mouts\u001b[0m\u001b[0;34m)\u001b[0m\u001b[0;34m:\u001b[0m\u001b[0;34m\u001b[0m\u001b[0;34m\u001b[0m\u001b[0m\n",
      "\u001b[0;32m//anaconda3/envs/mlenv/lib/python3.7/site-packages/keras/backend/tensorflow_backend.py\u001b[0m in \u001b[0;36m__call__\u001b[0;34m(self, inputs)\u001b[0m\n\u001b[1;32m   2713\u001b[0m                 \u001b[0;32mreturn\u001b[0m \u001b[0mself\u001b[0m\u001b[0;34m.\u001b[0m\u001b[0m_legacy_call\u001b[0m\u001b[0;34m(\u001b[0m\u001b[0minputs\u001b[0m\u001b[0;34m)\u001b[0m\u001b[0;34m\u001b[0m\u001b[0;34m\u001b[0m\u001b[0m\n\u001b[1;32m   2714\u001b[0m \u001b[0;34m\u001b[0m\u001b[0m\n\u001b[0;32m-> 2715\u001b[0;31m             \u001b[0;32mreturn\u001b[0m \u001b[0mself\u001b[0m\u001b[0;34m.\u001b[0m\u001b[0m_call\u001b[0m\u001b[0;34m(\u001b[0m\u001b[0minputs\u001b[0m\u001b[0;34m)\u001b[0m\u001b[0;34m\u001b[0m\u001b[0;34m\u001b[0m\u001b[0m\n\u001b[0m\u001b[1;32m   2716\u001b[0m         \u001b[0;32melse\u001b[0m\u001b[0;34m:\u001b[0m\u001b[0;34m\u001b[0m\u001b[0;34m\u001b[0m\u001b[0m\n\u001b[1;32m   2717\u001b[0m             \u001b[0;32mif\u001b[0m \u001b[0mpy_any\u001b[0m\u001b[0;34m(\u001b[0m\u001b[0mis_tensor\u001b[0m\u001b[0;34m(\u001b[0m\u001b[0mx\u001b[0m\u001b[0;34m)\u001b[0m \u001b[0;32mfor\u001b[0m \u001b[0mx\u001b[0m \u001b[0;32min\u001b[0m \u001b[0minputs\u001b[0m\u001b[0;34m)\u001b[0m\u001b[0;34m:\u001b[0m\u001b[0;34m\u001b[0m\u001b[0;34m\u001b[0m\u001b[0m\n",
      "\u001b[0;32m//anaconda3/envs/mlenv/lib/python3.7/site-packages/keras/backend/tensorflow_backend.py\u001b[0m in \u001b[0;36m_call\u001b[0;34m(self, inputs)\u001b[0m\n\u001b[1;32m   2673\u001b[0m             \u001b[0mfetched\u001b[0m \u001b[0;34m=\u001b[0m \u001b[0mself\u001b[0m\u001b[0;34m.\u001b[0m\u001b[0m_callable_fn\u001b[0m\u001b[0;34m(\u001b[0m\u001b[0;34m*\u001b[0m\u001b[0marray_vals\u001b[0m\u001b[0;34m,\u001b[0m \u001b[0mrun_metadata\u001b[0m\u001b[0;34m=\u001b[0m\u001b[0mself\u001b[0m\u001b[0;34m.\u001b[0m\u001b[0mrun_metadata\u001b[0m\u001b[0;34m)\u001b[0m\u001b[0;34m\u001b[0m\u001b[0;34m\u001b[0m\u001b[0m\n\u001b[1;32m   2674\u001b[0m         \u001b[0;32melse\u001b[0m\u001b[0;34m:\u001b[0m\u001b[0;34m\u001b[0m\u001b[0;34m\u001b[0m\u001b[0m\n\u001b[0;32m-> 2675\u001b[0;31m             \u001b[0mfetched\u001b[0m \u001b[0;34m=\u001b[0m \u001b[0mself\u001b[0m\u001b[0;34m.\u001b[0m\u001b[0m_callable_fn\u001b[0m\u001b[0;34m(\u001b[0m\u001b[0;34m*\u001b[0m\u001b[0marray_vals\u001b[0m\u001b[0;34m)\u001b[0m\u001b[0;34m\u001b[0m\u001b[0;34m\u001b[0m\u001b[0m\n\u001b[0m\u001b[1;32m   2676\u001b[0m         \u001b[0;32mreturn\u001b[0m \u001b[0mfetched\u001b[0m\u001b[0;34m[\u001b[0m\u001b[0;34m:\u001b[0m\u001b[0mlen\u001b[0m\u001b[0;34m(\u001b[0m\u001b[0mself\u001b[0m\u001b[0;34m.\u001b[0m\u001b[0moutputs\u001b[0m\u001b[0;34m)\u001b[0m\u001b[0;34m]\u001b[0m\u001b[0;34m\u001b[0m\u001b[0;34m\u001b[0m\u001b[0m\n\u001b[1;32m   2677\u001b[0m \u001b[0;34m\u001b[0m\u001b[0m\n",
      "\u001b[0;32m//anaconda3/envs/mlenv/lib/python3.7/site-packages/tensorflow/python/client/session.py\u001b[0m in \u001b[0;36m__call__\u001b[0;34m(self, *args, **kwargs)\u001b[0m\n\u001b[1;32m   1437\u001b[0m           ret = tf_session.TF_SessionRunCallable(\n\u001b[1;32m   1438\u001b[0m               \u001b[0mself\u001b[0m\u001b[0;34m.\u001b[0m\u001b[0m_session\u001b[0m\u001b[0;34m.\u001b[0m\u001b[0m_session\u001b[0m\u001b[0;34m,\u001b[0m \u001b[0mself\u001b[0m\u001b[0;34m.\u001b[0m\u001b[0m_handle\u001b[0m\u001b[0;34m,\u001b[0m \u001b[0margs\u001b[0m\u001b[0;34m,\u001b[0m \u001b[0mstatus\u001b[0m\u001b[0;34m,\u001b[0m\u001b[0;34m\u001b[0m\u001b[0;34m\u001b[0m\u001b[0m\n\u001b[0;32m-> 1439\u001b[0;31m               run_metadata_ptr)\n\u001b[0m\u001b[1;32m   1440\u001b[0m         \u001b[0;32mif\u001b[0m \u001b[0mrun_metadata\u001b[0m\u001b[0;34m:\u001b[0m\u001b[0;34m\u001b[0m\u001b[0;34m\u001b[0m\u001b[0m\n\u001b[1;32m   1441\u001b[0m           \u001b[0mproto_data\u001b[0m \u001b[0;34m=\u001b[0m \u001b[0mtf_session\u001b[0m\u001b[0;34m.\u001b[0m\u001b[0mTF_GetBuffer\u001b[0m\u001b[0;34m(\u001b[0m\u001b[0mrun_metadata_ptr\u001b[0m\u001b[0;34m)\u001b[0m\u001b[0;34m\u001b[0m\u001b[0;34m\u001b[0m\u001b[0m\n",
      "\u001b[0;31mKeyboardInterrupt\u001b[0m: "
     ]
    }
   ],
   "source": [
    "from keras.layers import LSTM, Lambda, Dropout,GRU\n",
    "\n",
    "gru = Sequential()\n",
    "gru.add(GRU(100,dropout=.2,activation='relu', input_shape=(90, 35), return_sequences=True))\n",
    "gru.add(Lambda(lambda x: x[:, -predictedDays:, :]))\n",
    "gru.add(Dense(1))\n",
    "\n",
    "gru.summary()\n",
    "gru.compile(optimizer='adam', loss='mse')\n",
    "\n",
    "# fit model\n",
    "history = gru.fit(x_train, y_train, validation_data=(x_test,y_test), epochs=600, verbose=1)\n"
   ]
  },
  {
   "cell_type": "code",
   "execution_count": 66,
   "metadata": {},
   "outputs": [
    {
     "data": {
      "image/png": "[encoded data removed]",
      "text/plain": [
       "<Figure size 432x288 with 2 Axes>"
      ]
     },
     "metadata": {
      "needs_background": "light"
     },
     "output_type": "display_data"
    }
   ],
   "source": [
    "from matplotlib import pyplot as plt\n",
    "\n",
    "plt.subplot(2,2,3)\n",
    "plt.plot(history.history['loss'])\n",
    "plt.ylabel('MSE Training Loss')\n",
    "plt.xlabel('epochs')\n",
    "\n",
    "plt.subplot(2,2,4)\n",
    "plt.plot(history.history['val_loss'])\n",
    "plt.xlabel('epochs')\n",
    "plt.show()"
   ]
  },
  {
   "cell_type": "markdown",
   "metadata": {},
   "source": [
    "# Stacked RNN"
   ]
  },
  {
   "cell_type": "code",
   "execution_count": 42,
   "metadata": {},
   "outputs": [
    {
     "name": "stdout",
     "output_type": "stream",
     "text": [
      "_________________________________________________________________\n",
      "Layer (type)                 Output Shape              Param #   \n",
      "=================================================================\n",
      "gru_5 (GRU)                  (None, 90, 100)           40800     \n",
      "_________________________________________________________________\n",
      "gru_6 (GRU)                  (None, 90, 100)           60300     \n",
      "_________________________________________________________________\n",
      "lambda_6 (Lambda)            (None, 14, 100)           0         \n",
      "_________________________________________________________________\n",
      "dense_6 (Dense)              (None, 14, 1)             101       \n",
      "=================================================================\n",
      "Total params: 101,201\n",
      "Trainable params: 101,201\n",
      "Non-trainable params: 0\n",
      "_________________________________________________________________\n",
      "Train on 1273 samples, validate on 425 samples\n",
      "Epoch 1/50\n",
      "1273/1273 [==============================] - 8s 7ms/step - loss: 0.0016 - val_loss: 4.5502e-04\n",
      "Epoch 2/50\n",
      "1273/1273 [==============================] - 7s 5ms/step - loss: 5.2983e-04 - val_loss: 5.6828e-04\n",
      "Epoch 3/50\n",
      "1273/1273 [==============================] - 6s 5ms/step - loss: 4.5518e-04 - val_loss: 3.9999e-04\n",
      "Epoch 4/50\n",
      "1273/1273 [==============================] - 7s 5ms/step - loss: 4.2145e-04 - val_loss: 3.6584e-04\n",
      "Epoch 5/50\n",
      "1273/1273 [==============================] - 7s 5ms/step - loss: 4.0007e-04 - val_loss: 3.7059e-04\n",
      "Epoch 6/50\n",
      "1273/1273 [==============================] - 7s 5ms/step - loss: 3.7920e-04 - val_loss: 3.4550e-04\n",
      "Epoch 7/50\n",
      "1273/1273 [==============================] - 7s 5ms/step - loss: 3.7244e-04 - val_loss: 3.3815e-04\n",
      "Epoch 8/50\n",
      "1273/1273 [==============================] - 7s 5ms/step - loss: 3.7081e-04 - val_loss: 3.3612e-04\n",
      "Epoch 9/50\n",
      "1273/1273 [==============================] - 7s 5ms/step - loss: 3.6368e-04 - val_loss: 3.3582e-04\n",
      "Epoch 10/50\n",
      "1273/1273 [==============================] - 7s 5ms/step - loss: 3.6026e-04 - val_loss: 3.3572e-04\n",
      "Epoch 11/50\n",
      "1273/1273 [==============================] - 7s 6ms/step - loss: 3.5938e-04 - val_loss: 3.4095e-04\n",
      "Epoch 12/50\n",
      "1273/1273 [==============================] - 8s 6ms/step - loss: 3.6025e-04 - val_loss: 3.3585e-04\n",
      "Epoch 13/50\n",
      "1273/1273 [==============================] - 7s 6ms/step - loss: 3.5620e-04 - val_loss: 3.3739e-04\n",
      "Epoch 14/50\n",
      "1273/1273 [==============================] - 8s 6ms/step - loss: 3.5633e-04 - val_loss: 3.3775e-04\n",
      "Epoch 15/50\n",
      "1273/1273 [==============================] - 9s 7ms/step - loss: 3.5416e-04 - val_loss: 3.3653e-04\n",
      "Epoch 16/50\n",
      "1273/1273 [==============================] - 8s 6ms/step - loss: 3.5368e-04 - val_loss: 3.3686e-04\n",
      "Epoch 17/50\n",
      "1273/1273 [==============================] - 7s 5ms/step - loss: 3.5063e-04 - val_loss: 3.3551e-04\n",
      "Epoch 18/50\n",
      "1273/1273 [==============================] - 6s 5ms/step - loss: 3.5245e-04 - val_loss: 3.3558e-04\n",
      "Epoch 19/50\n",
      "1273/1273 [==============================] - 7s 5ms/step - loss: 3.5227e-04 - val_loss: 3.3616e-04\n",
      "Epoch 20/50\n",
      "1273/1273 [==============================] - 7s 5ms/step - loss: 3.5151e-04 - val_loss: 3.3569e-04\n",
      "Epoch 21/50\n",
      "1273/1273 [==============================] - 7s 5ms/step - loss: 3.5009e-04 - val_loss: 3.3845e-04\n",
      "Epoch 22/50\n",
      "1273/1273 [==============================] - 8s 7ms/step - loss: 3.5018e-04 - val_loss: 3.3556e-04\n",
      "Epoch 23/50\n",
      "1273/1273 [==============================] - 7s 5ms/step - loss: 3.4957e-04 - val_loss: 3.3718e-04\n",
      "Epoch 24/50\n",
      "1273/1273 [==============================] - 6s 5ms/step - loss: 3.5012e-04 - val_loss: 3.3623e-04\n",
      "Epoch 25/50\n",
      "1273/1273 [==============================] - 6s 5ms/step - loss: 3.5082e-04 - val_loss: 3.3807e-04\n",
      "Epoch 26/50\n",
      "1273/1273 [==============================] - 7s 5ms/step - loss: 3.4986e-04 - val_loss: 3.3601e-04\n",
      "Epoch 27/50\n",
      "1273/1273 [==============================] - 7s 5ms/step - loss: 3.4954e-04 - val_loss: 3.3576e-04\n",
      "Epoch 28/50\n",
      "1273/1273 [==============================] - 7s 5ms/step - loss: 3.4864e-04 - val_loss: 3.3845e-04\n",
      "Epoch 29/50\n",
      "1273/1273 [==============================] - 6s 5ms/step - loss: 3.4901e-04 - val_loss: 3.3562e-04\n",
      "Epoch 30/50\n",
      "1273/1273 [==============================] - 7s 6ms/step - loss: 3.4896e-04 - val_loss: 3.3659e-04\n",
      "Epoch 31/50\n",
      "1273/1273 [==============================] - 7s 5ms/step - loss: 3.4789e-04 - val_loss: 3.3567e-04\n",
      "Epoch 32/50\n",
      "1273/1273 [==============================] - 6s 5ms/step - loss: 3.5107e-04 - val_loss: 3.3696e-04\n",
      "Epoch 33/50\n",
      "1273/1273 [==============================] - 6s 5ms/step - loss: 3.4954e-04 - val_loss: 3.3591e-04\n",
      "Epoch 34/50\n",
      "1273/1273 [==============================] - 6s 5ms/step - loss: 3.4800e-04 - val_loss: 3.3580e-04\n",
      "Epoch 35/50\n",
      "1273/1273 [==============================] - 6s 5ms/step - loss: 3.4860e-04 - val_loss: 3.3578e-04\n",
      "Epoch 36/50\n",
      "1273/1273 [==============================] - 7s 6ms/step - loss: 3.4796e-04 - val_loss: 3.3575e-04\n",
      "Epoch 37/50\n",
      "1273/1273 [==============================] - 7s 6ms/step - loss: 3.4806e-04 - val_loss: 3.4327e-04\n",
      "Epoch 38/50\n",
      "1273/1273 [==============================] - 8s 6ms/step - loss: 3.4884e-04 - val_loss: 3.3576e-04\n",
      "Epoch 39/50\n",
      "1273/1273 [==============================] - 7s 5ms/step - loss: 3.4830e-04 - val_loss: 3.3861e-04\n",
      "Epoch 40/50\n",
      "1273/1273 [==============================] - 7s 5ms/step - loss: 3.4784e-04 - val_loss: 3.4115e-04\n",
      "Epoch 41/50\n",
      "1273/1273 [==============================] - 7s 6ms/step - loss: 3.4965e-04 - val_loss: 3.3557e-04\n",
      "Epoch 42/50\n",
      "1273/1273 [==============================] - 7s 5ms/step - loss: 3.4796e-04 - val_loss: 3.3844e-04\n",
      "Epoch 43/50\n",
      "1273/1273 [==============================] - 7s 6ms/step - loss: 3.4933e-04 - val_loss: 3.3566e-04\n",
      "Epoch 44/50\n",
      "1273/1273 [==============================] - 7s 6ms/step - loss: 3.4798e-04 - val_loss: 3.3556e-04\n",
      "Epoch 45/50\n",
      "1273/1273 [==============================] - 7s 6ms/step - loss: 3.4813e-04 - val_loss: 3.4386e-04\n",
      "Epoch 46/50\n",
      "1273/1273 [==============================] - 7s 6ms/step - loss: 3.4817e-04 - val_loss: 3.3615e-04\n",
      "Epoch 47/50\n",
      "1273/1273 [==============================] - 7s 6ms/step - loss: 3.4704e-04 - val_loss: 3.3621e-04\n",
      "Epoch 48/50\n",
      "1273/1273 [==============================] - 7s 5ms/step - loss: 3.4838e-04 - val_loss: 3.3844e-04\n",
      "Epoch 49/50\n",
      "1273/1273 [==============================] - 7s 5ms/step - loss: 3.4824e-04 - val_loss: 3.3710e-04\n",
      "Epoch 50/50\n",
      "1273/1273 [==============================] - 8s 6ms/step - loss: 3.4914e-04 - val_loss: 3.3579e-04\n"
     ]
    }
   ],
   "source": [
    "\n",
    "modelstacked = Sequential()\n",
    "modelstacked.add(GRU(100,dropout=.2,recurrent_dropout=.2,activation='relu', input_shape=(90, 35), return_sequences=True))\n",
    "modelstacked.add(GRU(100,dropout=.4,activation='relu', return_sequences=True))\n",
    "\n",
    "modelstacked.add(Lambda(lambda x: x[:, -predictedDays:, :]))\n",
    "\n",
    "modelstacked.add(Dense(1))\n",
    "\n",
    "modelstacked.summary()\n",
    "modelstacked.compile(optimizer='adam', loss='mse')\n",
    "\n",
    "# fit model\n",
    "historystacked = modelstacked.fit(x_train, y_train, validation_data=(x_test,y_test),epochs=50, verbose=1)\n"
   ]
  },
  {
   "cell_type": "code",
   "execution_count": 43,
   "metadata": {},
   "outputs": [
    {
     "data": {
      "image/png": "[encoded data removed]",
      "text/plain": [
       "<Figure size 432x288 with 2 Axes>"
      ]
     },
     "metadata": {
      "needs_background": "light"
     },
     "output_type": "display_data"
    }
   ],
   "source": [
    "from matplotlib import pyplot as plt\n",
    "\n",
    "plt.subplot(2,2,3)\n",
    "plt.plot(historystacked.history['loss'])\n",
    "plt.ylabel('MSE Training Loss')\n",
    "plt.xlabel('epochs')\n",
    "\n",
    "plt.subplot(2,2,4)\n",
    "plt.plot(historystacked.history['val_loss'])\n",
    "plt.xlabel('epochs')\n",
    "plt.show()"
   ]
  },
  {
   "cell_type": "markdown",
   "metadata": {},
   "source": [
    "# Backtracing GRU Prediction vs Real"
   ]
  },
  {
   "cell_type": "code",
   "execution_count": 70,
   "metadata": {},
   "outputs": [
    {
     "name": "stdout",
     "output_type": "stream",
     "text": [
      "[ 0.01731088 -0.00586697 -0.01240253 -0.00560598  0.01312064 -0.00343514\n",
      " -0.00364311  0.00880751  0.00253106 -0.0031608   0.00423388  0.01420993\n",
      "  0.00665038 -0.00341239]\n",
      "[-0.00638765  0.00177558 -0.00545572 -0.00672424 -0.01702     0.02691381\n",
      " -0.00293098 -0.02335222 -0.03194986  0.04031929 -0.03779899 -0.04383955\n",
      "  0.01112177 -0.05206101]\n",
      "[1603.069946, 1610.150024, 1612.869995, 1624.890015, 1629.619995, 1641.540039, 1665.27002, 1696.3499760000002, 1695.75, 1689.300049, 1683.9899899999998, 1689.119995, 1698.75, 1704.859985, 1723.859985, 1715.969971, 1723.790039, 1734.780029, 1750.0799559999998, 1730.219971, 1715.6700440000002, 1663.150024, 1691.089966, 1660.51001, 1701.449951, 1699.800049, 1713.780029, 1693.959961, 1699.72998, 1710.630005, 1739.02002, 1743.069946, 1755.0, 1796.619995, 1813.030029, 1822.4899899999998, 1843.930054, 1842.9200440000002, 1812.969971, 1813.699951, 1802.0, 1829.2399899999998, 1863.609985, 1808.0, 1817.27002, 1779.219971, 1777.439941, 1797.1700440000002, 1834.3299559999998, 1823.290039, 1847.75, 1862.47998, 1886.52002, 1898.52002, 1886.300049, 1896.199951, 1919.6500239999998, 1882.619995, 1886.52002, 1882.219971, 1876.709961, 1883.4200440000002, 1904.9000239999998, 1902.9000239999998, 1905.390015, 1927.680054, 1932.819946, 1998.0999760000002, 2002.380005, 2012.709961, 2039.5100100000002, 1994.819946, 1958.310059, 1952.069946, 1939.0100100000002, 1987.1500239999998, 1990.0, 1989.869995, 1970.189941, 1908.030029, 1941.050049, 1926.4200440000002, 1944.300049, 1915.0100100000002, 1934.359985, 1974.550049, 1974.8499760000002, 2012.97998, 2003.0, 2004.359985, 1971.310059, 1952.7600100000002, 1909.4200440000002, 1889.6500239999998, 1864.4200440000002, 1870.319946, 1755.25, 1719.359985, 1788.609985, 1760.949951, 1819.959961, 1831.72998, 1770.719971, 1764.030029]\n",
      "90\n"
     ]
    },
    {
     "data": {
      "image/png": "[encoded data removed]",
      "text/plain": [
       "<Figure size 432x288 with 1 Axes>"
      ]
     },
     "metadata": {
      "needs_background": "light"
     },
     "output_type": "display_data"
    }
   ],
   "source": [
    "base = 1274\n",
    "timeplus = 231\n",
    "yhat = gru.predict(x_test[timeplus][np.newaxis,:,:])\n",
    "print(yhat[0].ravel())\n",
    "print(y_test[0].ravel())\n",
    "print(og[base-90 + timeplus:base+14+timeplus])\n",
    "# print(yhat[0] - y_test[0])\n",
    "backtesting = og[base-90+timeplus:base+timeplus]\n",
    "print(len(backtesting))\n",
    "yhatBack=og[base-1+timeplus]\n",
    "ytestBack = og[base-1+timeplus]\n",
    "ytest_backtesting=og[base-90+timeplus:base+timeplus]\n",
    "\n",
    "for i,val in enumerate(yhat[0].ravel()):\n",
    "#     print(yhatBack)\n",
    "    yhatBack = yhatBack * (1+val)\n",
    "    \n",
    "    backtesting.append(yhatBack)\n",
    "\n",
    "for i,val in enumerate(y_test[0].ravel()):\n",
    "#     print(ytestBack)\n",
    "    ytestBack = ytestBack * (1+val)\n",
    "    \n",
    "    ytest_backtesting.append(ytestBack)\n",
    "xbacktest= [x for x in range(0,104)]\n",
    "plt.plot(xbacktest,backtesting,'b-')\n",
    "plt.plot(xbacktest,ytest_backtesting,'r-')\n",
    "plt.title(\"{} - {}\".format(ogdates[base-90+timeplus],ogdates[base+14+timeplus]))\n",
    "\n",
    "plt.show()\n"
   ]
  },
  {
   "cell_type": "markdown",
   "metadata": {},
   "source": [
    "# Backtracing for LSTM and Real"
   ]
  },
  {
   "cell_type": "code",
   "execution_count": 55,
   "metadata": {},
   "outputs": [
    {
     "name": "stdout",
     "output_type": "stream",
     "text": [
      "[-3.6151544e-03 -8.4408093e-05 -6.1512599e-04 -1.3969173e-03\n",
      " -9.0010511e-04 -7.7431696e-04 -5.4881093e-03 -4.3464811e-03\n",
      "  3.0382094e-03  1.6899570e-03  8.8692224e-04  3.7011686e-03\n",
      " -1.3563153e-03 -4.2728209e-03]\n",
      "[-0.02198496  0.01740324  0.02177781 -0.00902921  0.0078602   0.00368596\n",
      "  0.0057214   0.01333795  0.00333803  0.01444171 -0.00659631 -0.00915367\n",
      "  0.02188399 -0.00841048]\n",
      "[1003.73999, 993.9799800000001, 976.7800289999999, 990.330017, 975.929993, 968.0, 953.659973, 971.400024, 965.1400150000001, 978.76001, 996.4699710000001, 994.1300050000001, 1006.51001, 1000.6300050000001, 1001.8099980000001, 1010.0399779999999, 1024.449951, 1026.869995, 1028.699951, 1025.670044, 1038.949951, 1039.869995, 1052.800049, 1046.0, 1020.0399779999999, 987.7800289999999, 996.1900019999999, 995.8900150000001, 986.919983, 987.580017, 992.2700199999999, 989.840027, 982.01001, 956.919983, 967.98999, 983.2999880000001, 982.73999, 978.179993, 960.570007, 958.4699710000001, 953.2899779999999, 966.900024, 958.0, 952.4500119999999, 945.26001, 946.0200199999999, 954.0599980000001, 967.590027, 980.599976, 978.25, 965.2700199999999, 967.7999880000001, 979.4699710000001, 965.900024, 977.9600220000001, 982.580017, 999.599976, 992.2100220000001, 986.7899779999999, 974.1900019999999, 969.8599849999999, 973.2100220000001, 964.650024, 955.099976, 939.7899779999999, 938.599976, 950.8699949999999, 956.400024, 961.349976, 959.1900019999999, 957.099976, 965.4500119999999, 980.849976, 989.580017, 990.98999, 987.2000119999999, 995.0, 1000.929993, 1002.9400019999999, 1006.340027, 1009.1300050000001, 997.0, 986.6099849999999, 982.909973, 966.2999880000001, 975.900024, 972.909973, 972.429993, 1100.949951, 1110.849976, 1105.280029, 1103.680054, 1094.219971, 1111.599976, 1120.660034, 1123.170044, 1132.880005, 1129.130005, 1125.349976, 1129.170044, 1136.839966, 1126.689941, 1137.290039, 1129.880005]\n"
     ]
    },
    {
     "data": {
      "image/png": "[encoded data removed]",
      "text/plain": [
       "<Figure size 432x288 with 1 Axes>"
      ]
     },
     "metadata": {
      "needs_background": "light"
     },
     "output_type": "display_data"
    }
   ],
   "source": [
    "base = 1274\n",
    "timeplus = 0\n",
    "yhat = model.predict(x_test[timeplus][np.newaxis,:,:])\n",
    "print(yhat[0].ravel())\n",
    "print(y_test[0].ravel())\n",
    "print(og[base-90 + timeplus:base+14+timeplus])\n",
    "# print(yhat[0] - y_test[0])\n",
    "backtesting = og[base-90+timeplus:base+timeplus]\n",
    "yhatBack=og[base-1+timeplus]\n",
    "ytestBack = og[base-1+timeplus]\n",
    "ytest_backtesting=og[base-90+timeplus:base+timeplus]\n",
    "\n",
    "for i,val in enumerate(yhat[0].ravel()):\n",
    "#     print(yhatBack)\n",
    "    yhatBack = yhatBack * (1+val)\n",
    "    \n",
    "    backtesting.append(yhatBack)\n",
    "\n",
    "for i,val in enumerate(y_test[0].ravel()):\n",
    "#     print(ytestBack)\n",
    "    ytestBack = ytestBack * (1+val)\n",
    "    \n",
    "    ytest_backtesting.append(ytestBack)\n",
    "xbacktest= [x for x in range(0,104)]\n",
    "plt.plot(xbacktest,backtesting,'b-')\n",
    "plt.plot(xbacktest,ytest_backtesting,'r-')\n",
    "plt.title(\"{} - {}\".format(ogdates[base-90+timeplus],ogdates[base+14+timeplus]))\n",
    "\n",
    "plt.show()\n"
   ]
  },
  {
   "cell_type": "markdown",
   "metadata": {},
   "source": [
    "# Backtracing for Stacked GRU and Real"
   ]
  },
  {
   "cell_type": "code",
   "execution_count": 60,
   "metadata": {},
   "outputs": [
    {
     "name": "stdout",
     "output_type": "stream",
     "text": [
      "[0.00077338 0.00071809 0.00078664 0.00066248 0.00106539 0.00136597\n",
      " 0.00040065 0.00092256 0.00133777 0.00137912 0.00131445 0.00180455\n",
      " 0.00157633 0.0011246 ]\n",
      "[-0.02198496  0.01740324  0.02177781 -0.00902921  0.0078602   0.00368596\n",
      "  0.0057214   0.01333795  0.00333803  0.01444171 -0.00659631 -0.00915367\n",
      "  0.02188399 -0.00841048]\n",
      "[1003.73999, 993.9799800000001, 976.7800289999999, 990.330017, 975.929993, 968.0, 953.659973, 971.400024, 965.1400150000001, 978.76001, 996.4699710000001, 994.1300050000001, 1006.51001, 1000.6300050000001, 1001.8099980000001, 1010.0399779999999, 1024.449951, 1026.869995, 1028.699951, 1025.670044, 1038.949951, 1039.869995, 1052.800049, 1046.0, 1020.0399779999999, 987.7800289999999, 996.1900019999999, 995.8900150000001, 986.919983, 987.580017, 992.2700199999999, 989.840027, 982.01001, 956.919983, 967.98999, 983.2999880000001, 982.73999, 978.179993, 960.570007, 958.4699710000001, 953.2899779999999, 966.900024, 958.0, 952.4500119999999, 945.26001, 946.0200199999999, 954.0599980000001, 967.590027, 980.599976, 978.25, 965.2700199999999, 967.7999880000001, 979.4699710000001, 965.900024, 977.9600220000001, 982.580017, 999.599976, 992.2100220000001, 986.7899779999999, 974.1900019999999, 969.8599849999999, 973.2100220000001, 964.650024, 955.099976, 939.7899779999999, 938.599976, 950.8699949999999, 956.400024, 961.349976, 959.1900019999999, 957.099976, 965.4500119999999, 980.849976, 989.580017, 990.98999, 987.2000119999999, 995.0, 1000.929993, 1002.9400019999999, 1006.340027, 1009.1300050000001, 997.0, 986.6099849999999, 982.909973, 966.2999880000001, 975.900024, 972.909973, 972.429993, 1100.949951, 1110.849976, 1105.280029, 1103.680054, 1094.219971, 1111.599976, 1120.660034, 1123.170044, 1132.880005, 1129.130005, 1125.349976, 1129.170044, 1136.839966, 1126.689941, 1137.290039, 1129.880005]\n"
     ]
    },
    {
     "data": {
      "image/png": "[encoded data removed]",
      "text/plain": [
       "<Figure size 432x288 with 1 Axes>"
      ]
     },
     "metadata": {
      "needs_background": "light"
     },
     "output_type": "display_data"
    }
   ],
   "source": [
    "base = 1274\n",
    "timeplus = 0\n",
    "yhat = modelstacked.predict(x_test[timeplus][np.newaxis,:,:])\n",
    "print(yhat[0].ravel())\n",
    "print(y_test[0].ravel())\n",
    "print(og[base-90 + timeplus:base+14+timeplus])\n",
    "# print(yhat[0] - y_test[0])\n",
    "backtesting = og[base-90+timeplus:base+timeplus]\n",
    "yhatBack=og[base-1+timeplus]\n",
    "ytestBack = og[base-1+timeplus]\n",
    "ytest_backtesting=og[base-90+timeplus:base+timeplus]\n",
    "\n",
    "for i,val in enumerate(yhat[0].ravel()):\n",
    "#     print(yhatBack)\n",
    "    yhatBack = yhatBack * (1+val)\n",
    "    \n",
    "    backtesting.append(yhatBack)\n",
    "\n",
    "for i,val in enumerate(y_test[0].ravel()):\n",
    "#     print(ytestBack)\n",
    "    ytestBack = ytestBack * (1+val)\n",
    "    \n",
    "    ytest_backtesting.append(ytestBack)\n",
    "xbacktest= [x for x in range(0,104)]\n",
    "plt.plot(xbacktest,backtesting,'b-')\n",
    "plt.plot(xbacktest,ytest_backtesting,'r-')\n",
    "plt.title(\"{} - {}\".format(ogdates[base-90+timeplus],ogdates[base+14+timeplus]))\n",
    "\n",
    "plt.show()\n"
   ]
  },
  {
   "cell_type": "code",
   "execution_count": null,
   "metadata": {},
   "outputs": [],
   "source": [
    "pred = model.predict(x_test[243][np.newaxis,:,:])\n",
    "print(x_test[0].shape)\n",
    "print(x_test.shape)\n",
    "\n",
    "print(pred)\n"
   ]
  },
  {
   "cell_type": "code",
   "execution_count": null,
   "metadata": {},
   "outputs": [],
   "source": []
  }
 ],
 "metadata": {
  "kernelspec": {
   "display_name": "Python 3",
   "language": "python",
   "name": "python3"
  },
  "language_info": {
   "codemirror_mode": {
    "name": "ipython",
    "version": 3
   },
   "file_extension": ".py",
   "mimetype": "text/x-python",
   "name": "python",
   "nbconvert_exporter": "python",
   "pygments_lexer": "ipython3",
   "version": "3.7.4"
  }
 },
 "nbformat": 4,
 "nbformat_minor": 2
}
