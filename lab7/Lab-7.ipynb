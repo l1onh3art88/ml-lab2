{
 "cells": [
  {
   "cell_type": "markdown",
   "metadata": {},
   "source": [
    "# Names \n",
    "Spencer Bernardo-Cheng\n",
    "Max Goldstein\n",
    "Robbie Keehan"
   ]
  },
  {
   "cell_type": "markdown",
   "metadata": {},
   "source": [
    "# Data Preparation"
   ]
  },
  {
   "cell_type": "code",
   "execution_count": 14,
   "metadata": {},
   "outputs": [
    {
     "name": "stderr",
     "output_type": "stream",
     "text": [
      "/anaconda3/lib/python3.7/site-packages/ipykernel_launcher.py:48: FutureWarning: set_value is deprecated and will be removed in a future release. Please use .at[] or .iat[] accessors instead\n"
     ]
    },
    {
     "name": "stdout",
     "output_type": "stream",
     "text": [
      "      % Change                                     newy\n",
      "90           0  [0, 0, 0, 0, 2, 0, 2, 0, 0, 0, 2, 0, 0]\n",
      "91           0  [0, 0, 0, 2, 0, 2, 0, 0, 0, 2, 0, 0, 2]\n",
      "92           0  [0, 0, 2, 0, 2, 0, 0, 0, 2, 0, 0, 2, 0]\n",
      "93           0  [0, 2, 0, 2, 0, 0, 0, 2, 0, 0, 2, 0, 0]\n",
      "94           2  [2, 0, 2, 0, 0, 0, 2, 0, 0, 2, 0, 0, 2]\n",
      "95           0  [0, 2, 0, 0, 0, 2, 0, 0, 2, 0, 0, 2, 2]\n",
      "96           2  [2, 0, 0, 0, 2, 0, 0, 2, 0, 0, 2, 2, 2]\n",
      "97           0  [0, 0, 0, 2, 0, 0, 2, 0, 0, 2, 2, 2, 0]\n",
      "98           0  [0, 0, 2, 0, 0, 2, 0, 0, 2, 2, 2, 0, 0]\n",
      "99           0  [0, 2, 0, 0, 2, 0, 0, 2, 2, 2, 0, 0, 0]\n",
      "100          2  [2, 0, 0, 2, 0, 0, 2, 2, 2, 0, 0, 0, 2]\n",
      "101          0  [0, 0, 2, 0, 0, 2, 2, 2, 0, 0, 0, 2, 2]\n",
      "102          0  [0, 2, 0, 0, 2, 2, 2, 0, 0, 0, 2, 2, 0]\n",
      "103          2  [2, 0, 0, 2, 2, 2, 0, 0, 0, 2, 2, 0, 0]\n",
      "104          0  [0, 0, 2, 2, 2, 0, 0, 0, 2, 2, 0, 0, 2]\n",
      "105          0  [0, 2, 2, 2, 0, 0, 0, 2, 2, 0, 0, 2, 2]\n",
      "106          2  [2, 2, 2, 0, 0, 0, 2, 2, 0, 0, 2, 2, 2]\n",
      "107          2  [2, 2, 0, 0, 0, 2, 2, 0, 0, 2, 2, 2, 2]\n",
      "108          2  [2, 0, 0, 0, 2, 2, 0, 0, 2, 2, 2, 2, 2]\n",
      "109          0  [0, 0, 0, 2, 2, 0, 0, 2, 2, 2, 2, 2, 2]\n",
      "110          0  [0, 0, 2, 2, 0, 0, 2, 2, 2, 2, 2, 2, 0]\n",
      "111          0  [0, 2, 2, 0, 0, 2, 2, 2, 2, 2, 2, 0, 2]\n",
      "112          2  [2, 2, 0, 0, 2, 2, 2, 2, 2, 2, 0, 2, 2]\n",
      "113          2  [2, 0, 0, 2, 2, 2, 2, 2, 2, 0, 2, 2, 2]\n",
      "114          0  [0, 0, 2, 2, 2, 2, 2, 2, 0, 2, 2, 2, 0]\n",
      "115          0  [0, 2, 2, 2, 2, 2, 2, 0, 2, 2, 2, 0, 2]\n",
      "116          2  [2, 2, 2, 2, 2, 2, 0, 2, 2, 2, 0, 2, 2]\n",
      "117          2  [2, 2, 2, 2, 2, 0, 2, 2, 2, 0, 2, 2, 0]\n",
      "118          2  [2, 2, 2, 2, 0, 2, 2, 2, 0, 2, 2, 0, 0]\n",
      "119          2  [2, 2, 2, 0, 2, 2, 2, 0, 2, 2, 0, 0, 0]\n",
      "...        ...                                      ...\n",
      "1862         0  [0, 2, 0, 2, 0, 2, 2, 0, 0, 0, 0, 0, 2]\n",
      "1863         2  [2, 0, 2, 0, 2, 2, 0, 0, 0, 0, 0, 2, 0]\n",
      "1864         0  [0, 2, 0, 2, 2, 0, 0, 0, 0, 0, 2, 0, 2]\n",
      "1865         2  [2, 0, 2, 2, 0, 0, 0, 0, 0, 2, 0, 2, 0]\n",
      "1866         0  [0, 2, 2, 0, 0, 0, 0, 0, 2, 0, 2, 0, 2]\n",
      "1867         2  [2, 2, 0, 0, 0, 0, 0, 2, 0, 2, 0, 2, 1]\n",
      "1868         2  [2, 0, 0, 0, 0, 0, 2, 0, 2, 0, 2, 1, 0]\n",
      "1869         0  [0, 0, 0, 0, 0, 2, 0, 2, 0, 2, 1, 0, 0]\n",
      "1870         0  [0, 0, 0, 0, 2, 0, 2, 0, 2, 1, 0, 0, 2]\n",
      "1871         0  [0, 0, 0, 2, 0, 2, 0, 2, 1, 0, 0, 2, 2]\n",
      "1872         0  [0, 0, 2, 0, 2, 0, 2, 1, 0, 0, 2, 2, 2]\n",
      "1873         0  [0, 2, 0, 2, 0, 2, 1, 0, 0, 2, 2, 2, 2]\n",
      "1874         2  [2, 0, 2, 0, 2, 1, 0, 0, 2, 2, 2, 2, 0]\n",
      "1875         0  [0, 2, 0, 2, 1, 0, 0, 2, 2, 2, 2, 0, 0]\n",
      "1876         2  [2, 0, 2, 1, 0, 0, 2, 2, 2, 2, 0, 0, 0]\n",
      "1877         0  [0, 2, 1, 0, 0, 2, 2, 2, 2, 0, 0, 0, 0]\n",
      "1878         2  [2, 1, 0, 0, 2, 2, 2, 2, 0, 0, 0, 0, 0]\n",
      "1879         1  [1, 0, 0, 2, 2, 2, 2, 0, 0, 0, 0, 0, 2]\n",
      "1880         0     [0, 0, 2, 2, 2, 2, 0, 0, 0, 0, 0, 2]\n",
      "1881         0        [0, 2, 2, 2, 2, 0, 0, 0, 0, 0, 2]\n",
      "1882         2           [2, 2, 2, 2, 0, 0, 0, 0, 0, 2]\n",
      "1883         2              [2, 2, 2, 0, 0, 0, 0, 0, 2]\n",
      "1884         2                 [2, 2, 0, 0, 0, 0, 0, 2]\n",
      "1885         2                    [2, 0, 0, 0, 0, 0, 2]\n",
      "1886         0                       [0, 0, 0, 0, 0, 2]\n",
      "1887         0                          [0, 0, 0, 0, 2]\n",
      "1888         0                             [0, 0, 0, 2]\n",
      "1889         0                                [0, 0, 2]\n",
      "1890         0                                   [0, 2]\n",
      "1891         2                                      [2]\n",
      "\n",
      "[1802 rows x 2 columns]\n"
     ]
    }
   ],
   "source": [
    "import numpy as np\n",
    "import pandas as pd\n",
    "datafb = pd.read_csv(\"./FB.csv\")\n",
    "datagoogle = pd.read_csv(\"./GOOGL.csv\")\n",
    "datamsft = pd.read_csv(\"./MSFT.csv\")\n",
    "dataam = pd.read_csv(\"./AMZN (1).csv\")\n",
    "datanflx = pd.read_csv(\"./NFLX.csv\")\n",
    "\n",
    "del datafb['Date']\n",
    "del datagoogle['Date']\n",
    "del datamsft['Date']\n",
    "del datanflx['Date']\n",
    "\n",
    "\n",
    "data = pd.concat([datafb, datagoogle, datamsft, dataam, datanflx], axis=1, sort=False)\n",
    "data = data[90:]\n",
    "del data['Change']\n",
    "del data['Gain']\n",
    "del data['Loss']\n",
    "del data['Average Gain']\n",
    "del data['Average Loss']\n",
    "del data['RS']\n",
    "del data['DM+1']\n",
    "del data['DM-1']\n",
    "del data['TR-14']\n",
    "del data['DM+1-14']\n",
    "del data['DM-1+14']\n",
    "del data['dl+1-14']\n",
    "del data['dl-1-14']\n",
    "del data['dl14diff']\n",
    "del data['dl14sum']\n",
    "del data['DX']\n",
    "del data['TR']\n",
    "\n",
    "up = .03\n",
    "down =-.03\n",
    "ydata = data['% Change']\n",
    "ydata = ydata.apply(lambda x:2 if x>=up else (1 if (x< up and x > down) else 0))\n",
    "ydata = pd.DataFrame(ydata)\n",
    "ydata['newy'] = \"\"\n",
    "\n",
    "for index, row in ydata.iterrows():\n",
    "    temp = list(ydata['% Change'][index-90:index+13-90].values)\n",
    "    ydata.set_value(index,'newy',temp)\n",
    "\n",
    "    \n",
    "print(ydata)\n",
    "\n",
    "\n"
   ]
  },
  {
   "cell_type": "code",
   "execution_count": null,
   "metadata": {},
   "outputs": [],
   "source": []
  }
 ],
 "metadata": {
  "kernelspec": {
   "display_name": "Python 3",
   "language": "python",
   "name": "python3"
  },
  "language_info": {
   "codemirror_mode": {
    "name": "ipython",
    "version": 3
   },
   "file_extension": ".py",
   "mimetype": "text/x-python",
   "name": "python",
   "nbconvert_exporter": "python",
   "pygments_lexer": "ipython3",
   "version": "3.7.1"
  }
 },
 "nbformat": 4,
 "nbformat_minor": 2
}
